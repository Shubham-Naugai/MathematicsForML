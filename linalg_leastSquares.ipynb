{
 "cells": [
  {
   "cell_type": "code",
   "execution_count": 1,
   "id": "5a7b7b76",
   "metadata": {},
   "outputs": [],
   "source": [
    "import numpy as np\n",
    "import matplotlib.pyplot as plt\n",
    "from sympy import *\n",
    "import scipy.io as sio\n",
    "from mpl_toolkits.mplot3d import Axes3D"
   ]
  },
  {
   "cell_type": "markdown",
   "id": "ae45fa18",
   "metadata": {},
   "source": [
    "# Least-squares via row-reduction"
   ]
  },
  {
   "cell_type": "code",
   "execution_count": 2,
   "id": "0bafc71d",
   "metadata": {},
   "outputs": [
    {
     "data": {
      "text/plain": [
       "(10, 1)"
      ]
     },
     "execution_count": 2,
     "metadata": {},
     "output_type": "execute_result"
    }
   ],
   "source": [
    "m = 10\n",
    "n = 3\n",
    "\n",
    "# create data\n",
    "X = np.random.randn(m,n)     # \"design matrix\"\n",
    "y = np.random.randn(m,1)     # \"outcome measures (data)\"\n",
    "\n",
    "np.shape(y)"
   ]
  },
  {
   "cell_type": "code",
   "execution_count": 3,
   "id": "4b2ef99b",
   "metadata": {},
   "outputs": [
    {
     "name": "stdout",
     "output_type": "stream",
     "text": [
      "(Matrix([\n",
      "[1, 0, 0, 0],\n",
      "[0, 1, 0, 0],\n",
      "[0, 0, 1, 0],\n",
      "[0, 0, 0, 1],\n",
      "[0, 0, 0, 0],\n",
      "[0, 0, 0, 0],\n",
      "[0, 0, 0, 0],\n",
      "[0, 0, 0, 0],\n",
      "[0, 0, 0, 0],\n",
      "[0, 0, 0, 0]]), (0, 1, 2, 3))\n"
     ]
    }
   ],
   "source": [
    "# directly applying RREF\n",
    "Xy = Matrix( np.concatenate([X,y],axis=1))\n",
    "print(Xy.rref())"
   ]
  },
  {
   "cell_type": "code",
   "execution_count": 4,
   "id": "168a4ea0",
   "metadata": {},
   "outputs": [
    {
     "name": "stdout",
     "output_type": "stream",
     "text": [
      "[[1 0 0 0.157139872738215]\n",
      " [0 1 0 0.219423656693613]\n",
      " [0 0 1 -0.0630191513803092]]\n",
      " \n",
      "Matrix([[0.157139872738215], [0.219423656693613], [-0.0630191513803092]])\n",
      " \n",
      "[[ 0.15713987]\n",
      " [ 0.21942366]\n",
      " [-0.06301915]]\n",
      " \n",
      "[[ 0.15713987]\n",
      " [ 0.21942366]\n",
      " [-0.06301915]]\n"
     ]
    }
   ],
   "source": [
    "# now reapply to the normal equations\n",
    "XtX = X.T@X\n",
    "Xty = X.T@y\n",
    "normEQ = Matrix(np.concatenate([XtX,Xty],axis=1))\n",
    "\n",
    "Xsol = normEQ.rref()\n",
    "Xsol = Xsol[0]\n",
    "beta = Xsol[:,-1]\n",
    "\n",
    "print(np.array(Xsol)), print(' ')\n",
    "print(beta), print(' ')\n",
    "\n",
    "# compare to left-inverse\n",
    "beta2 = np.linalg.inv(XtX) @ Xty\n",
    "print(beta2), print(' ')\n",
    "\n",
    "# and with the python solver\n",
    "beta3 = np.linalg.solve(XtX,Xty)\n",
    "print(beta3)"
   ]
  },
  {
   "cell_type": "markdown",
   "id": "5e234b10",
   "metadata": {},
   "source": [
    "# Least-squares example 1"
   ]
  },
  {
   "cell_type": "code",
   "execution_count": 5,
   "id": "679f6972",
   "metadata": {},
   "outputs": [
    {
     "name": "stdout",
     "output_type": "stream",
     "text": [
      "[[2.125]] 2.125\n"
     ]
    }
   ],
   "source": [
    "# data\n",
    "data = np.array([[-4,0,-3,1,2,8,5,8]]).T\n",
    "N    = len(data)\n",
    "\n",
    "# design matrix\n",
    "X = np.ones([N,1])\n",
    "# fit the model\n",
    "b = np.linalg.solve(X.T@X,X.T@data)\n",
    "\n",
    "# compare against the mean\n",
    "m = np.mean(data)\n",
    "\n",
    "# print the results\n",
    "print(b,m)"
   ]
  },
  {
   "cell_type": "code",
   "execution_count": 6,
   "id": "c29f8fcb",
   "metadata": {},
   "outputs": [
    {
     "data": {
      "image/png": "[encoded data removed]",
      "text/plain": [
       "<Figure size 432x288 with 1 Axes>"
      ]
     },
     "metadata": {
      "needs_background": "light"
     },
     "output_type": "display_data"
    }
   ],
   "source": [
    "# compute the model-predicted values\n",
    "yHat = X@b\n",
    "\n",
    "# plot data and model prediction\n",
    "plt.plot(np.arange(1,N+1),data,'bs-',label='Data')\n",
    "plt.plot(np.arange(1,N+1),yHat,'ro--',label='Model pred.')\n",
    "\n",
    "plt.legend()\n",
    "plt.show()"
   ]
  },
  {
   "cell_type": "code",
   "execution_count": 7,
   "id": "43cb02b1",
   "metadata": {},
   "outputs": [
    {
     "data": {
      "image/png": "[encoded data removed]",
      "text/plain": [
       "<Figure size 432x288 with 1 Axes>"
      ]
     },
     "metadata": {
      "needs_background": "light"
     },
     "output_type": "display_data"
    }
   ],
   "source": [
    "# new design matrix\n",
    "X = np.array([np.arange(0,N)]).T\n",
    "\n",
    "# fit the model\n",
    "b = np.linalg.solve(X.T@X,X.T@data)\n",
    "\n",
    "# compute the model-predicted values\n",
    "yHat = X@b\n",
    "\n",
    "# plot data and model prediction\n",
    "plt.plot(np.arange(1,N+1),data,'bs-',label='Data')\n",
    "plt.plot(np.arange(1,N+1),yHat,'ro--',label='Model pred.')\n",
    "\n",
    "plt.legend()\n",
    "plt.show()"
   ]
  },
  {
   "cell_type": "code",
   "execution_count": 8,
   "id": "d8362ba5",
   "metadata": {},
   "outputs": [
    {
     "data": {
      "image/png": "[encoded data removed]",
      "text/plain": [
       "<Figure size 432x288 with 1 Axes>"
      ]
     },
     "metadata": {
      "needs_background": "light"
     },
     "output_type": "display_data"
    }
   ],
   "source": [
    "# design matrix\n",
    "X = np.concatenate([np.ones([N,1]),np.array([np.arange(0,N)]).T],axis=1)\n",
    "# fit the model\n",
    "b = np.linalg.solve(X.T@X,X.T@data)\n",
    "\n",
    "# compute the model-predicted values\n",
    "yHat = X@b\n",
    "\n",
    "# plot data and model prediction\n",
    "plt.plot(np.arange(1,N+1),data,'bs-',label='Data')\n",
    "plt.plot(np.arange(1,N+1),yHat,'ro--',label='Model pred.')\n",
    "\n",
    "plt.legend()\n",
    "plt.show()"
   ]
  },
  {
   "cell_type": "code",
   "execution_count": 9,
   "id": "ffe92335",
   "metadata": {},
   "outputs": [
    {
     "data": {
      "image/png": "[encoded data removed]",
      "text/plain": [
       "<Figure size 432x288 with 1 Axes>"
      ]
     },
     "metadata": {
      "needs_background": "light"
     },
     "output_type": "display_data"
    }
   ],
   "source": [
    "## now with nonlinearity in the design matrix\n",
    "\n",
    "# design matrix\n",
    "X = np.concatenate([np.ones([N,1]),np.array([np.arange(0,N)**2]).T],axis=1)\n",
    "# fit the model\n",
    "b = np.linalg.solve(X.T@X,X.T@data)\n",
    "\n",
    "# compute the model-predicted values\n",
    "yHat = X@b\n",
    "\n",
    "# plot data and model prediction\n",
    "plt.plot(np.arange(1,N+1),data,'bs-',label='Data')\n",
    "plt.plot(np.arange(1,N+1),yHat,'ro--',label='Model pred.')\n",
    "\n",
    "plt.legend()\n",
    "plt.show()"
   ]
  },
  {
   "cell_type": "code",
   "execution_count": 10,
   "id": "0ed2881c",
   "metadata": {},
   "outputs": [
    {
     "name": "stdout",
     "output_type": "stream",
     "text": [
      "[[ 0.23591799]\n",
      " [-0.11227925]\n",
      " [-0.0082707 ]]\n",
      "\n",
      "[[ 0.23591799]\n",
      " [-0.11227925]\n",
      " [-0.0082707 ]]\n"
     ]
    }
   ],
   "source": [
    "# Code Practice: Least squares via QR decomposition\n",
    "m = 10\n",
    "n = 3\n",
    "\n",
    "X = np.random.randn(m,n)\n",
    "y = np.random.randn(m,1)\n",
    "\n",
    "# QR decomposition\n",
    "Q, R = np.linalg.qr(X)\n",
    "beta1 = np.linalg.solve(R.T@R, (Q@R).T@y)\n",
    "\n",
    "# compare against standard left inverse method\n",
    "beta2 = np.linalg.solve(X.T@X, X.T@y)\n",
    "brta2 = np.linalg.lstsq(X,y,rcond=None)[0]\n",
    "\n",
    "print(beta1)\n",
    "print()\n",
    "print(beta2)"
   ]
  }
 ],
 "metadata": {
  "kernelspec": {
   "display_name": "Python 3 (ipykernel)",
   "language": "python",
   "name": "python3"
  },
  "language_info": {
   "codemirror_mode": {
    "name": "ipython",
    "version": 3
   },
   "file_extension": ".py",
   "mimetype": "text/x-python",
   "name": "python",
   "nbconvert_exporter": "python",
   "pygments_lexer": "ipython3",
   "version": "3.8.8"
  }
 },
 "nbformat": 4,
 "nbformat_minor": 5
}
