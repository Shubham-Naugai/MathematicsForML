{
 "cells": [
  {
   "cell_type": "code",
   "execution_count": 1,
   "id": "f7ecfcfe",
   "metadata": {},
   "outputs": [],
   "source": [
    "import numpy as np\n",
    "import matplotlib.pyplot as plt\n",
    "import math\n",
    "from sympy import *"
   ]
  },
  {
   "cell_type": "markdown",
   "id": "8e7af538",
   "metadata": {},
   "source": [
    "# Standard matrix multiplication"
   ]
  },
  {
   "cell_type": "code",
   "execution_count": 2,
   "id": "1edd104a",
   "metadata": {},
   "outputs": [
    {
     "name": "stdout",
     "output_type": "stream",
     "text": [
      "Matrix_1: \n",
      " [[7 9 4]\n",
      " [2 8 5]\n",
      " [8 3 8]\n",
      " [0 5 4]]\n",
      "\n",
      "Matrix_2: \n",
      " [[2 4 6 4 9]\n",
      " [9 0 9 0 0]\n",
      " [4 7 7 8 3]]\n",
      "\n",
      "Matrix_3: \n",
      " [[3 9 7 3 7 4]\n",
      " [8 5 4 0 4 9]\n",
      " [8 8 5 7 2 4]\n",
      " [7 9 6 1 8 7]\n",
      " [8 9 8 7 4 1]\n",
      " [7 5 3 8 8 6]\n",
      " [7 1 2 2 5 7]]\n",
      "\n",
      "Multiply Matrix_1 and Matrix_2 \n",
      " [[111  56 151  60  75]\n",
      " [ 96  43 119  48  33]\n",
      " [ 75  88 131  96  96]\n",
      " [ 61  28  73  32  12]]\n"
     ]
    }
   ],
   "source": [
    "# Create Matrices\n",
    "\n",
    "Matrix_1 = np.random.randint(10, size=(4,3))\n",
    "Matrix_2 = np.random.randint(10, size=(3,5))\n",
    "Matrix_3 = np.random.randint(10, size=(7,6))\n",
    "print(\"Matrix_1: \\n\", Matrix_1)\n",
    "print()\n",
    "print(\"Matrix_2: \\n\", Matrix_2)\n",
    "print()\n",
    "print(\"Matrix_3: \\n\", Matrix_3)\n",
    "print()\n",
    "\n",
    "# Matrix multiplication\n",
    "print(\"Multiply Matrix_1 and Matrix_2 \\n\", np.matmul(Matrix_1, Matrix_2))\n",
    "# print(\"Multiply Matrix_1 and Matrix_3 \\n\", np.matmul(Matrix_1*Matrix_2))     # produce error"
   ]
  },
  {
   "cell_type": "code",
   "execution_count": 3,
   "id": "ba8ea67a",
   "metadata": {},
   "outputs": [
    {
     "name": "stdout",
     "output_type": "stream",
     "text": [
      "Matrix A: \n",
      " [[9 2 9]\n",
      " [9 9 2]\n",
      " [2 3 0]]\n",
      "\n",
      "Matrix B: \n",
      " [[7 9 0]\n",
      " [8 6 6]\n",
      " [5 9 8]]\n",
      "\n",
      "Layer wise multiplication: \n",
      " [[124. 174.  84.]\n",
      " [145. 153.  70.]\n",
      " [ 38.  36.  18.]]\n",
      "\n",
      "Direct multiplication of matrix: \n",
      " [[124 174  84]\n",
      " [145 153  70]\n",
      " [ 38  36  18]]\n"
     ]
    }
   ],
   "source": [
    "# Code practice 1:\n",
    "\"\"\"\n",
    "Matrix multiplication via layer perspective\n",
    "step1 generate two matices A and B\n",
    "step2 build the product matrix layer wise(for loop)\n",
    "step3 impliment matrix multiplication directly\n",
    "step4 compare the results of step2 and step3\n",
    "\"\"\"\n",
    "\n",
    "# creating matrix\n",
    "m = 3\n",
    "n = 3\n",
    "A = np.random.randint(10, size=(m, n))\n",
    "B = np.random.randint(10, size=(n, m))\n",
    "\n",
    "print(\"Matrix A: \\n\", A)\n",
    "print()\n",
    "print(\"Matrix B: \\n\", B)\n",
    "print()\n",
    "\n",
    "# create a zero matrix of mxm\n",
    "C = np.zeros((m, m))\n",
    "\n",
    "# layer wise multiplication\n",
    "for i in range(n):\n",
    "    C += np.outer(A[:, i], B[i, :])    # multi dimentional array(Matrix) slicing\n",
    "\n",
    "print(\"Layer wise multiplication: \\n\", C)\n",
    "print()\n",
    "\n",
    "# Direct multiplication of matrix\n",
    "D = A@B\n",
    "print(\"Direct multiplication of matrix: \\n\", D)"
   ]
  },
  {
   "cell_type": "markdown",
   "id": "a172c239",
   "metadata": {},
   "source": [
    "# Order-of-operations on matrices"
   ]
  },
  {
   "cell_type": "code",
   "execution_count": 4,
   "id": "fde3d65e",
   "metadata": {},
   "outputs": [
    {
     "name": "stdout",
     "output_type": "stream",
     "text": [
      "Matrix A: \n",
      " [[0 4 4]\n",
      " [8 2 6]\n",
      " [0 9 9]]\n",
      "\n",
      "Matrix B: \n",
      " [[7 6 0]\n",
      " [1 8 1]\n",
      " [9 0 1]]\n",
      "\n",
      "(A*B)' = \n",
      " [[ 40 112  90]\n",
      " [ 32  64  72]\n",
      " [  8   8  18]]\n",
      "\n",
      "B' = \n",
      " [[7 1 9]\n",
      " [6 8 0]\n",
      " [0 1 1]]\n",
      "A' = \n",
      " [[0 8 0]\n",
      " [4 2 9]\n",
      " [4 6 9]]\n",
      "\n",
      "B'*A' = \n",
      " [[ 40 112  90]\n",
      " [ 32  64  72]\n",
      " [  8   8  18]]\n",
      "\n",
      "Hence (A * B)' == B' * A'\n"
     ]
    }
   ],
   "source": [
    "# Creating Matrices\n",
    "m = 3\n",
    "n = 3\n",
    "A = np.random.randint(10, size=(m, n))\n",
    "B = np.random.randint(10, size=(n, m))\n",
    "\n",
    "print(\"Matrix A: \\n\", A)\n",
    "print()\n",
    "print(\"Matrix B: \\n\", B)\n",
    "print()\n",
    "\n",
    "# multiplying A and B and transpose the result\n",
    "AB = A@B\n",
    "print(\"(A*B)' = \\n\", np.transpose(AB))\n",
    "print()\n",
    "# Transpose the matrices\n",
    "BT = np.transpose(B)\n",
    "AT = np.transpose(A)\n",
    "print(\"B' = \\n\", BT)\n",
    "print(\"A' = \\n\", AT)\n",
    "print()\n",
    "# Multiply AT and BT\n",
    "print(\"B'*A' = \\n\", BT@AT)\n",
    "print()\n",
    "\n",
    "print(\"Hence (A * B)' == B' * A'\")"
   ]
  },
  {
   "cell_type": "markdown",
   "id": "3f7aba0d",
   "metadata": {},
   "source": [
    "# Matrix-vector multiplication"
   ]
  },
  {
   "cell_type": "code",
   "execution_count": 5,
   "id": "6ff57682",
   "metadata": {},
   "outputs": [
    {
     "name": "stdout",
     "output_type": "stream",
     "text": [
      "[-8. -3. -1.  4.]\n",
      "[-8. -3. -1.  4.]\n",
      "[-8. -3. -1.  4.]\n",
      "[-8. -3. -1.  4.]\n",
      "[-8. -3. -1.  4.]\n",
      "[-25  13 -15  19]\n",
      "[16  7 30 17]\n",
      "[16  7 30 17]\n",
      "[-25  13 -15  19]\n",
      "[16  7 30 17]\n"
     ]
    }
   ],
   "source": [
    "# number of elements\n",
    "m = 4\n",
    "\n",
    "# create matrices\n",
    "N = np.random.randint(-10,11,(m,m))\n",
    "S = np.round(N.T*N / m**2) # scaled symmetric\n",
    "\n",
    "# and vector\n",
    "w = np.array([-1, 0, 1, 2])\n",
    "\n",
    "# with symmetric matrix\n",
    "print( S@w )     # 1\n",
    "print( S.T@w )   # 2\n",
    "print( w@S )     # 3\n",
    "print( w.T@S.T ) # 4\n",
    "print( w.T@S )   # 5\n",
    "\n",
    "\n",
    "# with nonsymmetric matrix\n",
    "print( N@w )     # 1\n",
    "print( N.T@w )   # 2\n",
    "print( w@N )     # 3\n",
    "print( w.T@N.T ) # 4\n",
    "print( w.T@N )   # 5\n"
   ]
  },
  {
   "cell_type": "code",
   "execution_count": 6,
   "id": "1b2a528e",
   "metadata": {},
   "outputs": [
    {
     "name": "stdout",
     "output_type": "stream",
     "text": [
      "[[1 2 3]\n",
      " [4 5 6]\n",
      " [7 8 9]] \n",
      "\n",
      "[10 11 12]\n",
      "\n",
      "[ 68 167 266]\n",
      "[138 171 204]\n"
     ]
    }
   ],
   "source": [
    "A = np.array([[1,2,3], [4,5,6], [7,8,9]])\n",
    "B = np.array([10, 11, 12])\n",
    "\n",
    "print(A, \"\\n\")\n",
    "print(B)\n",
    "print()\n",
    "print(A@B.T)\n",
    "print(B@A)"
   ]
  },
  {
   "cell_type": "markdown",
   "id": "b39faadc",
   "metadata": {},
   "source": [
    "# Transformation Matrix"
   ]
  },
  {
   "cell_type": "code",
   "execution_count": 7,
   "id": "f527c81b",
   "metadata": {},
   "outputs": [
    {
     "name": "stdout",
     "output_type": "stream",
     "text": [
      "[2 3]\n"
     ]
    },
    {
     "data": {
      "image/png": "[encoded data removed]",
      "text/plain": [
       "<Figure size 432x288 with 1 Axes>"
      ]
     },
     "metadata": {
      "needs_background": "light"
     },
     "output_type": "display_data"
    }
   ],
   "source": [
    "\"\"\"2D Transformation Matrices\"\"\"\n",
    "\n",
    "# 2D input vector\n",
    "v = np.array([2, 3])\n",
    "v = np.matrix.transpose(v)   # converting v to column\n",
    "print(v)\n",
    "\n",
    "# 2x2 transformation matrix\n",
    "A = np.array([[1,-1], [2,1]])\n",
    "\n",
    "# output vector --> Av\n",
    "w = A@v\n",
    "\n",
    "# plotting\n",
    "plt.plot([0,v[0]],[0,v[1]],label='v')\n",
    "plt.plot([0,w[0]],[0,w[1]],label='Av')\n",
    "\n",
    "plt.grid()\n",
    "plt.axis((-6, 6, -6, 6))\n",
    "plt.legend()\n",
    "plt.title('Rotation + stretching')\n",
    "plt.show()"
   ]
  },
  {
   "cell_type": "code",
   "execution_count": 8,
   "id": "cb031b91",
   "metadata": {},
   "outputs": [
    {
     "data": {
      "image/png": "[encoded data removed]",
      "text/plain": [
       "<Figure size 432x288 with 1 Axes>"
      ]
     },
     "metadata": {
      "needs_background": "light"
     },
     "output_type": "display_data"
    }
   ],
   "source": [
    "\"\"\"Pure Rotation\"\"\"\n",
    "\n",
    "# 2D input vector\n",
    "v = np.array([3, 0])\n",
    "v = np.matrix.transpose(v)   # converting v to column\n",
    "\n",
    "# Rotation angle (specify in radians)\n",
    "th = np.pi/2\n",
    "\n",
    "# 2x2 rotation matrix\n",
    "A = np.array([[math.cos(th), -math.sin(th)], [math.sin(th), math.cos(th)]])\n",
    "\n",
    "# Output vector Av\n",
    "w = A@v   # vector v get rotate by angle th(theta)\n",
    "\n",
    "# plotting\n",
    "plt.plot([0,v[0]],[0,v[1]],label='v')\n",
    "plt.plot([0,w[0]],[0,w[1]],label='Av')\n",
    "\n",
    "plt.grid()\n",
    "plt.axis((-4, 4, -4, 4))\n",
    "plt.legend()\n",
    "plt.title('Pure rotation')\n",
    "plt.show()"
   ]
  },
  {
   "cell_type": "code",
   "execution_count": 9,
   "id": "b390f645",
   "metadata": {},
   "outputs": [
    {
     "data": {
      "image/png": "[encoded data removed]",
      "text/plain": [
       "<Figure size 432x288 with 1 Axes>"
      ]
     },
     "metadata": {
      "needs_background": "light"
     },
     "output_type": "display_data"
    }
   ],
   "source": [
    "# Code Practice 2:\n",
    "# Investigate the relationship between rotation angle and vector magnitude\n",
    "\n",
    "# create 2D vector\n",
    "v = np.array([3, -2])\n",
    "\n",
    "# An array of thetas start from 0 to 360(2pi) and there are 100 values of theta which are in equal interval\n",
    "# (suppose there are 5 intervals of 360 degree then the array would be like [  0.  90. 180. 270. 360.])\n",
    "thetas = np.linspace(0, 2*np.pi, 100)\n",
    "# print(thetas)\n",
    "\n",
    "# create an 2xlen(thetas) array of vector magnitude(having all elements zero and equal length of thetas array)\n",
    "# for storing the magnitude of resulting vector in each interval of theta\n",
    "vecmags = np.zeros((len(thetas), 2))\n",
    "\n",
    "# intializing for loop for each theta\n",
    "for i in range(len(thetas)):\n",
    "    th = thetas[i]\n",
    "    # 2x2 inmpure transformation matrix(effect the length also)\n",
    "    A1 = np.array([[2*math.cos(th), -math.sin(th)], [math.sin(th), math.cos(th)]])\n",
    "    # 2x2 pure transformation matrix(just rotate the vector)\n",
    "    A2 = np.array([[math.cos(th), -math.sin(th)], [math.sin(th), math.cos(th)]])\n",
    "    \n",
    "    # Compute the vector Magnitudes with impure and pure transformation matrix and storing them to vegmags array\n",
    "    # 1st element of of the array has two elements where 0th ele is norm(A1@v.T) and 1st ele is norm(A2@v.T)\n",
    "    vecmags[i, 0] = np.linalg.norm(A1@v.T)\n",
    "    vecmags[i, 1] = np.linalg.norm(A2@v.T)\n",
    "\n",
    "# plotting\n",
    "plt.plot(thetas, vecmags, 'o-')\n",
    "plt.xlabel('Rotation angle (rad.)')\n",
    "plt.ylabel('Av magnitude')\n",
    "plt.legend(['impure rotation', 'pure rotation'])\n",
    "plt.show()"
   ]
  },
  {
   "cell_type": "code",
   "execution_count": 10,
   "id": "7b40fc0f",
   "metadata": {},
   "outputs": [
    {
     "name": "stdout",
     "output_type": "stream",
     "text": [
      "(100, 2)\n"
     ]
    },
    {
     "data": {
      "image/png": "[encoded data removed]",
      "text/plain": [
       "<Figure size 432x288 with 1 Axes>"
      ]
     },
     "metadata": {
      "needs_background": "light"
     },
     "output_type": "display_data"
    }
   ],
   "source": [
    "# Code practice 3:\n",
    "\n",
    "th = np.linspace(-np.pi, np.pi, 100)\n",
    "xy = np.vstack((np.cos(th), np.sin(th))).T \n",
    "print(np.shape(xy))\n",
    "\n",
    "# plot the circle\n",
    "plt.plot(xy[:, 0],xy[:, 1], 'o-')\n",
    "\n",
    "# creating 2x2 identity matrix \n",
    "M = np.array([[1, 2], [2, 1]])\n",
    "\n",
    "newxy = xy@M\n",
    "\n",
    "# plot the circle\n",
    "plt.plot(newxy[:, 0],newxy[:, 1], 'o-')\n",
    "plt.axis('square')\n",
    "plt.show()"
   ]
  },
  {
   "cell_type": "markdown",
   "id": "edaa20f8",
   "metadata": {},
   "source": [
    "# Additive and multiplicative matrix identities"
   ]
  },
  {
   "cell_type": "code",
   "execution_count": 11,
   "id": "51e79034",
   "metadata": {},
   "outputs": [
    {
     "name": "stdout",
     "output_type": "stream",
     "text": [
      "Original Matrix A: \n",
      " [[ -0.  -7.   6.   6.]\n",
      " [ -5.   8.   5.  -5.]\n",
      " [  9.  -1.  -6. -11.]\n",
      " [ 12.   5. -13. -18.]]\n",
      "\n",
      "Identity Matrix I: \n",
      " [[1. 0. 0. 0.]\n",
      " [0. 1. 0. 0.]\n",
      " [0. 0. 1. 0.]\n",
      " [0. 0. 0. 1.]]\n",
      "\n",
      "Zero Matrix Z: \n",
      " [[0. 0. 0. 0.]\n",
      " [0. 0. 0. 0.]\n",
      " [0. 0. 0. 0.]\n",
      " [0. 0. 0. 0.]]\n",
      "\n",
      "Testing the following conditions\n",
      "A*I = A        // True\n",
      "I*A = A        // True\n",
      "A*I = I*A = A  // True\n",
      "A+I = A        // False\n",
      "I+A = A        // False\n",
      "A+Z = A*I      // True\n"
     ]
    }
   ],
   "source": [
    "# size of matrices\n",
    "n = 4\n",
    "\n",
    "# create the matrices\n",
    "A = np.round(10*np.random.randn(n,n))\n",
    "print(\"Original Matrix A: \\n\", A)\n",
    "print()\n",
    "I = np.eye(n)\n",
    "print(\"Identity Matrix I: \\n\", I)\n",
    "print()\n",
    "Z = np.zeros((n,n))\n",
    "print(\"Zero Matrix Z: \\n\", Z)\n",
    "print()\n",
    "\n",
    "# test both identities\n",
    "print(\"Testing the following conditions\")\n",
    "print(\"A*I = A        //\", np.array_equal(A@I, A))\n",
    "print(\"I*A = A        //\", np.array_equal(I@A, A))\n",
    "print(\"A*I = I*A = A  //\", np.array_equal(A*I, I*A))\n",
    "print(\"A+I = A        //\", np.array_equal(A+I, A))\n",
    "print(\"I+A = A        //\", np.array_equal(A+I, A))\n",
    "print(\"A+Z = A*I      //\", np.array_equal(A+Z, A@I))"
   ]
  },
  {
   "cell_type": "markdown",
   "id": "253d4463",
   "metadata": {},
   "source": [
    "# Additive and multiplicative methods to create Symmetric Matrices"
   ]
  },
  {
   "cell_type": "code",
   "execution_count": 12,
   "id": "2a418b3e",
   "metadata": {},
   "outputs": [
    {
     "name": "stdout",
     "output_type": "stream",
     "text": [
      "Non Symmetric Square Satrix A: \n",
      " [[  5.  -3.  -2.  -3. -12.]\n",
      " [  2.   3.   2.   0.  -7.]\n",
      " [ -5.  -8.  18.  -3.  12.]\n",
      " [  4. -27.  -6.  12.  11.]\n",
      " [ -1.   2.  13.   2.  17.]]\n",
      "\n",
      "Additive Method to get Symmetric Matrix S = (A + A.T)/2\n",
      "Symmetric Matrix S: \n",
      " [[  5.   -0.5  -3.5   0.5  -6.5]\n",
      " [ -0.5   3.   -3.  -13.5  -2.5]\n",
      " [ -3.5  -3.   18.   -4.5  12.5]\n",
      " [  0.5 -13.5  -4.5  12.    6.5]\n",
      " [ -6.5  -2.5  12.5   6.5  17. ]]\n",
      "\n",
      "[[0. 0. 0. 0. 0.]\n",
      " [0. 0. 0. 0. 0.]\n",
      " [0. 0. 0. 0. 0.]\n",
      " [0. 0. 0. 0. 0.]\n",
      " [0. 0. 0. 0. 0.]]\n"
     ]
    }
   ],
   "source": [
    "\"\"\"Additive Method\"\"\"\n",
    "\n",
    "# specify sizes (only sqaure matrix)\n",
    "m = 5\n",
    "n = 5\n",
    "\n",
    "# create matrices\n",
    "A = np.round(10*np.random.randn(m,n))\n",
    "print(\"Non Symmetric Square Satrix A: \\n\", A)\n",
    "print()\n",
    "\n",
    "S = (A + A.T)/2\n",
    "print(\"Additive Method to get Symmetric Matrix S = (A + A.T)/2\")\n",
    "print(\"Symmetric Matrix S: \\n\", S)\n",
    "print()\n",
    "# or\n",
    "# S = (A + A.T)\n",
    "\n",
    "# A symmetric matrix minus its transpose should be all zeros\n",
    "print(S-S.T)"
   ]
  },
  {
   "cell_type": "code",
   "execution_count": 13,
   "id": "772d812c",
   "metadata": {},
   "outputs": [
    {
     "name": "stdout",
     "output_type": "stream",
     "text": [
      "Non Symmetric Satrix A: \n",
      " [[ -4.   7.  -1.]\n",
      " [ -9.   0. -12.]\n",
      " [-28.  -1.  12.]\n",
      " [-15.   4.   4.]\n",
      " [ -2.   8.  11.]]\n",
      "\n",
      "Multiplicative Method to get Symmetric Matrix S = A*A'\n",
      "Symmetric Matrix S: \n",
      " [[1110.  -76. -306.]\n",
      " [ -76.  130.   85.]\n",
      " [-306.   85.  426.]]\n",
      "Shape  (3, 3)\n",
      "S is symmetric as S-S': \n",
      " [[0. 0. 0.]\n",
      " [0. 0. 0.]\n",
      " [0. 0. 0.]]\n",
      "\n",
      "Multiplicative Method to get Symmetric Matrix S = A*A'\n",
      "Symmetric Matrix S: \n",
      " [[  66.   48.   93.   84.   53.]\n",
      " [  48.  225.  108.   87. -114.]\n",
      " [  93.  108.  929.  464.  180.]\n",
      " [  84.   87.  464.  257.  106.]\n",
      " [  53. -114.  180.  106.  189.]]\n",
      "Shape  (5, 5)\n",
      "S is symmetric as S-S': \n",
      " [[0. 0. 0. 0. 0.]\n",
      " [0. 0. 0. 0. 0.]\n",
      " [0. 0. 0. 0. 0.]\n",
      " [0. 0. 0. 0. 0.]\n",
      " [0. 0. 0. 0. 0.]]\n",
      "\n"
     ]
    }
   ],
   "source": [
    "\"\"\"Multiplicative Method \"\"\"\n",
    "\n",
    "# specify sizes\n",
    "m = 5\n",
    "n = 3\n",
    "\n",
    "# create matrices\n",
    "A   = np.round(10*np.random.randn(m,n))\n",
    "print(\"Non Symmetric Satrix A: \\n\", A)\n",
    "print()\n",
    "\n",
    "S = A.T@A\n",
    "print(\"Multiplicative Method to get Symmetric Matrix S = A*A'\")\n",
    "print(\"Symmetric Matrix S: \\n\", S)\n",
    "print(\"Shape \", S.shape)       # As S is also a square matrix\n",
    "print(\"S is symmetric as S-S': \\n\", S - S.T)   # S is symmetric(of course...)\n",
    "print()\n",
    "\n",
    "S = A@A.T\n",
    "print(\"Multiplicative Method to get Symmetric Matrix S = A*A'\")\n",
    "print(\"Symmetric Matrix S: \\n\", S)\n",
    "print(\"Shape \", S.shape)       # As S is also a square matrix\n",
    "print(\"S is symmetric as S-S': \\n\", S - S.T)   # S is symmetric(of course...)\n",
    "print()\n"
   ]
  },
  {
   "cell_type": "markdown",
   "id": "1ce2457a",
   "metadata": {},
   "source": [
    "# Element-wise (Hadamard) multiplication"
   ]
  },
  {
   "cell_type": "code",
   "execution_count": 14,
   "id": "915d0885",
   "metadata": {},
   "outputs": [
    {
     "name": "stdout",
     "output_type": "stream",
     "text": [
      "Matrix A: \n",
      " [[ 1. -2.]\n",
      " [ 2.  2.]\n",
      " [ 0.  0.]\n",
      " [-0.  0.]\n",
      " [ 2.  5.]]\n",
      "\n",
      "Matrix B: \n",
      " [[-4. -1.]\n",
      " [-2. -3.]\n",
      " [-0.  2.]\n",
      " [ 1.  3.]\n",
      " [-2. -0.]]\n",
      "\n",
      "[[-4.  2.]\n",
      " [-4. -6.]\n",
      " [-0.  0.]\n",
      " [-0.  0.]\n",
      " [-4. -0.]]\n",
      " \n",
      "[[-4.  2.]\n",
      " [-4. -6.]\n",
      " [-0.  0.]\n",
      " [-0.  0.]\n",
      " [-4. -0.]]\n",
      " \n"
     ]
    },
    {
     "data": {
      "text/plain": [
       "(None, None)"
      ]
     },
     "execution_count": 14,
     "metadata": {},
     "output_type": "execute_result"
    }
   ],
   "source": [
    "# any matrix sizes\n",
    "m = 5\n",
    "n =  2\n",
    "\n",
    "# ...but the two matrices must be the same size\n",
    "A = np.round(2*np.random.randn(m,n))\n",
    "B = np.round(2*np.random.randn(m,n))\n",
    "print(\"Matrix A: \\n\", A)\n",
    "print()\n",
    "print(\"Matrix B: \\n\", B)\n",
    "print()\n",
    "\n",
    "# note the different syntax compared to @ for matrix multiplication\n",
    "C1 = np.multiply( A,B )\n",
    "C2 = A*B\n",
    "\n",
    "print(C1), print(' ')\n",
    "print(C2), print(' ')"
   ]
  },
  {
   "cell_type": "code",
   "execution_count": 15,
   "id": "c715cc99",
   "metadata": {},
   "outputs": [
    {
     "name": "stdout",
     "output_type": "stream",
     "text": [
      "Square Symmetric Matrix SA: \n",
      " [[ 1. -0. -0.  9.  7.]\n",
      " [-0.  0.  0. 63.  2.]\n",
      " [-0.  0.  0. -4. 24.]\n",
      " [ 9. 63. -4.  4. -2.]\n",
      " [ 7.  2. 24. -2. 25.]]\n",
      "\n",
      "Square Symmetric Matrix SB: \n",
      " [[  9. -36.   0. -36.  -4.]\n",
      " [-36.   1.  20.  -0.   2.]\n",
      " [  0.  20.  16.   0.   0.]\n",
      " [-36.  -0.   0.   4. -27.]\n",
      " [ -4.   2.   0. -27.  16.]]\n",
      "\n",
      "Sum of SA and SB: \n",
      " [[ 10. -36.   0. -27.   3.]\n",
      " [-36.   1.  20.  63.   4.]\n",
      " [  0.  20.  16.  -4.  24.]\n",
      " [-27.  63.  -4.   8. -29.]\n",
      " [  3.   4.  24. -29.  41.]]\n",
      "\n",
      "Multiplication of SA and SB: \n",
      " [[ -343.   -22.     0.  -189.  -135.]\n",
      " [-2276.     4.     0.   198. -1669.]\n",
      " [   48.    48.     0.  -664.   492.]\n",
      " [-2323.  -345.  1196.  -254.   -50.]\n",
      " [  -37.   280.   424.  -935.   430.]]\n",
      "\n",
      "Hadamard Multiplication of SA and SB: \n",
      " [[ -343.   -22.     0.  -189.  -135.]\n",
      " [-2276.     4.     0.   198. -1669.]\n",
      " [   48.    48.     0.  -664.   492.]\n",
      " [-2323.  -345.  1196.  -254.   -50.]\n",
      " [  -37.   280.   424.  -935.   430.]]\n",
      "\n",
      "[[0. 0. 0. 0. 0.]\n",
      " [0. 0. 0. 0. 0.]\n",
      " [0. 0. 0. 0. 0.]\n",
      " [0. 0. 0. 0. 0.]\n",
      " [0. 0. 0. 0. 0.]]\n",
      "\n",
      "[[    0.  2254.   -48.  2134.   -98.]\n",
      " [-2254.     0.   -48.   543. -1949.]\n",
      " [   48.    48.     0. -1860.    68.]\n",
      " [-2134.  -543.  1860.     0.   885.]\n",
      " [   98.  1949.   -68.  -885.     0.]]\n",
      "\n",
      "[[0. 0. 0. 0. 0.]\n",
      " [0. 0. 0. 0. 0.]\n",
      " [0. 0. 0. 0. 0.]\n",
      " [0. 0. 0. 0. 0.]\n",
      " [0. 0. 0. 0. 0.]]\n",
      "\n"
     ]
    },
    {
     "data": {
      "text/plain": [
       "(None, None)"
      ]
     },
     "execution_count": 15,
     "metadata": {},
     "output_type": "execute_result"
    }
   ],
   "source": [
    "# Code Practice 4:\n",
    "\"\"\"\n",
    "% create two square symmetric matrices\n",
    "% compute the sum, multiplications and hadamard multiplications of two the matrices\n",
    "% dtermine wether the result is still similar\n",
    "\"\"\"\n",
    "\n",
    "# Create two square symmetric matrix\n",
    "A = np.round(4*np.random.randn(5, 5))           # random number square matrix\n",
    "B = np.round(4*np.random.randn(5, 5))\n",
    "\n",
    "# converting into symmetric matrix\n",
    "SA = A.T*A\n",
    "print(\"Square Symmetric Matrix SA: \\n\", SA)\n",
    "print()\n",
    "SB = B.T*B\n",
    "print(\"Square Symmetric Matrix SB: \\n\", SB)\n",
    "print()\n",
    "\n",
    "# compute the sum, multiplication and hadamard multiplication of the two matrices\n",
    "CS = SA+SB             # Sum\n",
    "print(\"Sum of SA and SB: \\n\", CS)\n",
    "print()\n",
    "CM = SA@SB             # Multiplication\n",
    "print(\"Multiplication of SA and SB: \\n\", CM)\n",
    "print()\n",
    "CHM = SA*SB            # Hadamard multiplication\n",
    "print(\"Hadamard Multiplication of SA and SB: \\n\", CM)\n",
    "print()\n",
    "\n",
    "# dtermine wether the result is still similar\n",
    "print(CS-CS.T), print()\n",
    "print(CM-CM.T), print()\n",
    "print(CHM-CHM.T), print()"
   ]
  },
  {
   "cell_type": "code",
   "execution_count": 16,
   "id": "5fb0cb51",
   "metadata": {},
   "outputs": [
    {
     "name": "stdout",
     "output_type": "stream",
     "text": [
      "Matrix([[0, 0, 0, 0], [0, 0, 0, 0], [0, 0, 0, 0], [0, 0, 0, 0]])\n",
      "Matrix([[0, 0, 0, 0], [0, 0, 0, 0], [0, 0, 0, 0], [0, 0, 0, 0]])\n",
      "a\n",
      "a\n",
      "a\n",
      "a\n",
      "l\n",
      "l\n",
      "l\n",
      "l\n"
     ]
    }
   ],
   "source": [
    "from sympy import *\n",
    "\n",
    "a,b,c,d,e,f,g,h,k,l,m,n,o,p,q,r,s,t,u = symbols('a b c d e f g h k l m n o p q r s t u', real=True)\n",
    "\n",
    "# symmetric and constant-diagonal matrices\n",
    "A = Matrix([ [a,b,c,d],\n",
    "             [b,a,e,f],\n",
    "             [c,e,a,h],\n",
    "             [d,f,h,a]])\n",
    "\n",
    "B = Matrix([ [l,m,n,o],\n",
    "             [m,l,q,r],\n",
    "             [n,q,l,t],\n",
    "             [o,r,t,l]])\n",
    "\n",
    "\n",
    "# confirmation that A and B are symmetric\n",
    "print(A - A.transpose())\n",
    "print(B - B.transpose())\n",
    "\n",
    "# ... and constant diagonal\n",
    "for i in range(0,np.size(A,0)):\n",
    "    print(A[i,i])\n",
    "for i in range(0,np.size(B,0)):\n",
    "    print(B[i,i])"
   ]
  },
  {
   "cell_type": "code",
   "execution_count": 18,
   "id": "9f70cad7",
   "metadata": {},
   "outputs": [
    {
     "data": {
      "text/latex": [
       "$\\displaystyle \\left[\\begin{matrix}0 & c q + d r - e n - f o & b q + d t - e m - h o & b r + c t - f m - h n\\\\- c q - d r + e n + f o & 0 & b n - c m + f t - h r & b o - d m + e t - h q\\\\- b q - d t + e m + h o & - b n + c m - f t + h r & 0 & c o - d n + e r - f q\\\\- b r - c t + f m + h n & - b o + d m - e t + h q & - c o + d n - e r + f q & 0\\end{matrix}\\right]$"
      ],
      "text/plain": [
       "⎡          0             c⋅q + d⋅r - e⋅n - f⋅o   b⋅q + d⋅t - e⋅m - h⋅o   b⋅r +\n",
       "⎢                                                                             \n",
       "⎢-c⋅q - d⋅r + e⋅n + f⋅o            0             b⋅n - c⋅m + f⋅t - h⋅r   b⋅o -\n",
       "⎢                                                                             \n",
       "⎢-b⋅q - d⋅t + e⋅m + h⋅o  -b⋅n + c⋅m - f⋅t + h⋅r            0             c⋅o -\n",
       "⎢                                                                             \n",
       "⎣-b⋅r - c⋅t + f⋅m + h⋅n  -b⋅o + d⋅m - e⋅t + h⋅q  -c⋅o + d⋅n - e⋅r + f⋅q       \n",
       "\n",
       " c⋅t - f⋅m - h⋅n⎤\n",
       "                ⎥\n",
       " d⋅m + e⋅t - h⋅q⎥\n",
       "                ⎥\n",
       " d⋅n + e⋅r - f⋅q⎥\n",
       "                ⎥\n",
       "     0          ⎦"
      ]
     },
     "execution_count": 18,
     "metadata": {},
     "output_type": "execute_result"
    }
   ],
   "source": [
    "# printing in sympy\n",
    "init_printing()\n",
    "\n",
    "# but AB neq (AB)'\n",
    "A@B - (A@B).T\n",
    "\n",
    "# maybe for a submatrix?\n",
    "# n = 2\n",
    "# A1 = A[0:n,0:n]\n",
    "# B1 = B[0:n,0:n]\n",
    "\n",
    "# A1@B1 - (A1@B1).T"
   ]
  },
  {
   "cell_type": "code",
   "execution_count": 19,
   "id": "e23a6adb",
   "metadata": {},
   "outputs": [
    {
     "name": "stdout",
     "output_type": "stream",
     "text": [
      "Matrix A: \n",
      " [[11 16  3  8]\n",
      " [ 0  8 14  6]\n",
      " [ 3 15 15 19]\n",
      " [ 9 10  7  8]]\n",
      "\n",
      "Diagonal Matrix D: \n",
      " [[2 0 0 0]\n",
      " [0 7 0 0]\n",
      " [0 0 6 0]\n",
      " [0 0 0 9]]\n",
      "\n",
      "Standard multiplication of A with itself: \n",
      " [[202 429 358 305]\n",
      " [ 96 334 364 362]\n",
      " [249 583 577 551]\n",
      " [192 409 328 329]]\n",
      "\n",
      "Hadamard multiplication of A with itself: \n",
      " [[121 256   9  64]\n",
      " [  0  64 196  36]\n",
      " [  9 225 225 361]\n",
      " [ 81 100  49  64]]\n",
      "\n",
      "Standard multiplication of D with itself: \n",
      " [[ 4  0  0  0]\n",
      " [ 0 49  0  0]\n",
      " [ 0  0 36  0]\n",
      " [ 0  0  0 81]]\n",
      "\n",
      "Hadamard multiplication of D with itself: \n",
      " [[ 4  0  0  0]\n",
      " [ 0 49  0  0]\n",
      " [ 0  0 36  0]\n",
      " [ 0  0  0 81]]\n",
      "\n"
     ]
    },
    {
     "data": {
      "text/plain": [
       "(None, None)"
      ]
     },
     "execution_count": 19,
     "metadata": {},
     "output_type": "execute_result"
    }
   ],
   "source": [
    "# Code Practices 5: Standard and Hadamard multiplication for diagonal Matrices\n",
    "# Create two matrices: \"one is full and second is diagonal\"\n",
    "A = np.random.randint(20, size=(4, 4))\n",
    "print(\"Matrix A: \\n\", A)\n",
    "print()\n",
    "D = np.diag([2, 7, 6, 9])\n",
    "print(\"Diagonal Matrix D: \\n\", D)\n",
    "print()\n",
    "\n",
    "# Multiply each matrix by itself: Standard and Hadamard\n",
    "print(\"Standard multiplication of A with itself: \\n\", A@A), print()\n",
    "print(\"Hadamard multiplication of A with itself: \\n\", A*A), print()\n",
    "\n",
    "print(\"Standard multiplication of D with itself: \\n\", D@D), print()\n",
    "print(\"Hadamard multiplication of D with itself: \\n\", D*D), print()\n",
    "\n",
    "# Here we conclude --> D*D = D.*D"
   ]
  },
  {
   "cell_type": "code",
   "execution_count": 20,
   "id": "f2266700",
   "metadata": {},
   "outputs": [
    {
     "data": {
      "image/png": "[encoded data removed]",
      "text/plain": [
       "<Figure size 432x288 with 1 Axes>"
      ]
     },
     "metadata": {
      "needs_background": "light"
     },
     "output_type": "display_data"
    },
    {
     "data": {
      "image/png": "[encoded data removed]",
      "text/plain": [
       "<Figure size 432x288 with 2 Axes>"
      ]
     },
     "metadata": {
      "needs_background": "light"
     },
     "output_type": "display_data"
    },
    {
     "name": "stdout",
     "output_type": "stream",
     "text": [
      "X1 == X2: True\n"
     ]
    },
    {
     "data": {
      "image/png": "[encoded data removed]",
      "text/plain": [
       "<Figure size 432x288 with 1 Axes>"
      ]
     },
     "metadata": {
      "needs_background": "light"
     },
     "output_type": "display_data"
    },
    {
     "data": {
      "image/png": "[encoded data removed]",
      "text/plain": [
       "<Figure size 432x288 with 1 Axes>"
      ]
     },
     "metadata": {
      "needs_background": "light"
     },
     "output_type": "display_data"
    }
   ],
   "source": [
    "# Code Practice 5: Fourier transform via Matrix multiplication\n",
    "\"\"\"\n",
    "F(i,j) (complex matrix) = w^m\n",
    "w(omega) = e^(-2pi*sqrt(-1)/n)\n",
    "m = (j-1)(k-1) --> in matlab\n",
    "m = (j)(j)     --> in python\n",
    "# Check\n",
    "X = Fx   x is a column vector\n",
    "\"\"\"\n",
    "\n",
    "n = 52\n",
    "omega = np.e**(-2*np.pi*1j/n) \n",
    "\n",
    "# initialize a complex matrix\n",
    "F = np.zeros((n, n), dtype=complex)\n",
    " \n",
    "for j in range(n):\n",
    "    for k in range(n): \n",
    "        m = j * k\n",
    "        F[j,k] = omega**m\n",
    "\n",
    "plt.imshow(F.real, cmap='jet')\n",
    "plt.show()\n",
    "plt.imshow(abs(F))\n",
    "plt.colorbar()\n",
    "plt.show()\n",
    "\n",
    "x = np.random.randn(n)\n",
    "\n",
    "X1 = F@x\n",
    "X2 = np.fft.fft(x)\n",
    "print(f'X1 == X2: {np.allclose(X1, X2)}')\n",
    "\n",
    "# plot them\n",
    "plt.figure()\n",
    "plt.plot(abs(X1))\n",
    "plt.plot(abs(X2), marker='o', color='r', linestyle='None')\n",
    "plt.show()\n",
    "plt.plot(F.real[:,25])\n",
    "plt.show()"
   ]
  },
  {
   "cell_type": "markdown",
   "id": "6748837e",
   "metadata": {},
   "source": [
    "# Frobenius dot-product or Frobenius inner-product"
   ]
  },
  {
   "cell_type": "code",
   "execution_count": 21,
   "id": "3d9acfbe",
   "metadata": {},
   "outputs": [
    {
     "name": "stdout",
     "output_type": "stream",
     "text": [
      "Matrix A: \n",
      " [[4 7 2 8]\n",
      " [0 6 8 6]\n",
      " [0 5 3 9]\n",
      " [1 7 3 7]\n",
      " [5 4 1 9]]\n",
      "\n",
      "Matrix B: \n",
      " [[3 0 8 2]\n",
      " [3 3 4 2]\n",
      " [6 6 7 1]\n",
      " [5 6 7 3]\n",
      " [9 6 6 3]]\n",
      "\n",
      "M1 --> Frobenius Dot Product of A and B is  357\n",
      "M2 --> Frobenius Dot Product of A and B is  357\n",
      "M3 --> Frobenius Dot Product of A and B is  357\n",
      "\n",
      "Frobenius Norm =  24.79919353527449\n",
      "Frobenius Norm by trace method =  24.79919353527449\n"
     ]
    }
   ],
   "source": [
    "# any matrix sizes\n",
    "m = 5\n",
    "n = 4\n",
    "\n",
    "# but the two matrices must be the same size\n",
    "A = np.random.randint(10, size=(m,n))\n",
    "B = np.random.randint(10, size=(m,n))\n",
    "print(\"Matrix A: \\n\", A)\n",
    "print()\n",
    "print(\"Matrix B: \\n\", B)\n",
    "print()\n",
    "\n",
    "# Method 1\n",
    "# first hadamard multiplication, then sum the matrix elements\n",
    "M = A*B\n",
    "print(\"M1 --> Frobenius Dot Product of A and B is \", np.sum(M))\n",
    "\n",
    "# Method 2\n",
    "# first vectorize the matrices, then vector-dot-product\n",
    "Av = np.reshape(A, m*n, order='F') # order='F' reshapes by columns instead of by rows\n",
    "Bv = np.reshape(B, m*n, order='F')\n",
    "frob_dp = np.dot(Av,Bv)\n",
    "print(\"M2 --> Frobenius Dot Product of A and B is \", frob_dp)\n",
    "\n",
    "# Method 3\n",
    "# trace method (trace of A'*B)\n",
    "frob_dp2 = np.trace(A.T@B)\n",
    "print(\"M3 --> Frobenius Dot Product of A and B is \", frob_dp2)\n",
    "print()\n",
    "\n",
    "# matrix norm or Frobenius norm or Euclidean norm\n",
    "Anorm  = np.linalg.norm(A,'fro')    # 'fro' mean compute the frobenius norm\n",
    "Anorm2 = np.sqrt(np.trace(A.T@A))\n",
    "print(\"Frobenius Norm = \", Anorm)\n",
    "print(\"Frobenius Norm by trace method = \", Anorm2)"
   ]
  },
  {
   "cell_type": "markdown",
   "id": "a67cdf1c",
   "metadata": {},
   "source": [
    "# Matrix norms"
   ]
  },
  {
   "cell_type": "code",
   "execution_count": 22,
   "id": "bfb51cc9",
   "metadata": {},
   "outputs": [
    {
     "name": "stdout",
     "output_type": "stream",
     "text": [
      "16.431676725154983 16.431676725154986 16.392007827749776\n"
     ]
    }
   ],
   "source": [
    "# Create a matrix\n",
    "A = np.array([[1,2,3], [4,5,6], [7,7,9]])\n",
    "\n",
    "# optional orthogonal matrix to show that 2-norm is 1\n",
    "Q,R = np.linalg.qr(np.random.randn(5,5))\n",
    "# A = Q\n",
    "\n",
    "# Frobenius norm\n",
    "normFrob = np.linalg.norm(A,'fro')\n",
    "\n",
    "# induced 2-norm\n",
    "normInd2 = np.linalg.norm(A,2)\n",
    "# note: computed as below\n",
    "lamb = np.sqrt( np.max(np.linalg.eig(A.T@A)[0]) )\n",
    "\n",
    "# schatten p-norm\n",
    "p = 2\n",
    "s = np.linalg.svd(A)[1] # get singular values\n",
    "normSchat = np.sum(s**p)**(1/p)\n",
    "\n",
    "# % show all norms for comparison\n",
    "print(normFrob,normSchat,normInd2)"
   ]
  },
  {
   "cell_type": "code",
   "execution_count": 23,
   "id": "e301b62b",
   "metadata": {},
   "outputs": [
    {
     "name": "stdout",
     "output_type": "stream",
     "text": [
      "(4,)\n",
      "17257\n",
      "17257\n",
      "0\n"
     ]
    }
   ],
   "source": [
    "# Code Practice 6: Conditions for self adjoint\n",
    "\"\"\"\n",
    "A = Matrix\n",
    "v = vector\n",
    "w = vector\n",
    "\n",
    "# Matrix A is self adjoint if the following condition is true\n",
    "<Av, w> = <v, Aw>    % <> indicates the dot product\n",
    "\n",
    "List 2-3 conditions for this equality to hold\n",
    "Condition 1: A is square matrix  (mxm)\n",
    "condition 2: A is symmetric\n",
    "condition 3: v and w are the same size (mx1)\n",
    "\n",
    "Prove the equality when those conditions are met\n",
    "proof\n",
    "(Av)' * w = v' * A' * w = v' * A*w\n",
    "\"\"\"\n",
    "\n",
    "# Code\n",
    "# Create square matrix\n",
    "m =4\n",
    "A = np.random.randint(10, size=(m, m))\n",
    "\n",
    "# Converting into Symmetric matrix\n",
    "SA = A@A.T\n",
    "\n",
    "# Creating vector v and w\n",
    "v = np.random.randint(10, size=(m))\n",
    "w = np.random.randint(10, size=(m))\n",
    "print(np.shape(v))\n",
    "res1 = np.dot(SA@v, w)\n",
    "res2 = np.dot(v, SA@w)\n",
    "\n",
    "print(res1)\n",
    "print(res2)\n",
    "print(res1 - res2)"
   ]
  },
  {
   "cell_type": "code",
   "execution_count": 24,
   "id": "81f34efb",
   "metadata": {},
   "outputs": [],
   "source": [
    "# Code Practice 7: Matrix asymmetry index\n",
    "\"\"\"\n",
    "Matrix asymmetry index = a\n",
    "a = ||SSA||/||SA||       Ratio of norms\n",
    "SSA = (A - A')/2       Asymmetric part of A\n",
    "Matrix symmetry index = 1 - Matrix asymmetry index\n",
    "\"\"\"\n",
    "\n",
    "# part 1 : Impliment MAI(Matrix asymmetry index)\n",
    "def MatrixAsymmetryIndex(A):\n",
    "    Aanti = (A-A.T)/2\n",
    "    mai = np.linalg.norm(Aanti) / np.linalg.norm(A)\n",
    "    return mai"
   ]
  },
  {
   "cell_type": "code",
   "execution_count": 25,
   "id": "aea16c5d",
   "metadata": {},
   "outputs": [
    {
     "name": "stdout",
     "output_type": "stream",
     "text": [
      "MAI of symmetric matrix =  0.0\n",
      "MAI of skew-symmetric matrix =  1.0\n",
      "MAI of random matrix =  0.3240058820063259\n"
     ]
    },
    {
     "data": {
      "text/plain": [
       "'For a random matrix 0< MAI <1'"
      ]
     },
     "execution_count": 25,
     "metadata": {},
     "output_type": "execute_result"
    }
   ],
   "source": [
    "# part 2 : compute MAI for symmetric, skew-symmetric and random matrix\n",
    "# SYMMETRIC MATRIX\n",
    "A = np.random.randint(10, size=(5, 5))\n",
    "# converting to symmetric matrix\n",
    "A = (A+A.T)/2\n",
    "print(\"MAI of symmetric matrix = \", MatrixAsymmetryIndex(A))\n",
    "\"\"\"For symmetric matrix MAI = 0\"\"\"\n",
    "\n",
    "\n",
    "# SKEW-SYMMETRIC MATRIC OR ASYMMETRIC MATRIX\n",
    "A = np.random.randint(10, size=(5, 5))\n",
    "# converting to skew-symmetric or asymmetric matrix\n",
    "A = (A-A.T)/2;\n",
    "print(\"MAI of skew-symmetric matrix = \", MatrixAsymmetryIndex(A))\n",
    "\"\"\"For a skew-symmetric matrix MAI = 1\"\"\"\n",
    "\n",
    "# RANDOM MATRIX\n",
    "A = np.random.randint(10, size=(5, 5))\n",
    "print(\"MAI of random matrix = \", MatrixAsymmetryIndex(A))\n",
    "\"\"\"For a random matrix 0< MAI <1\"\"\""
   ]
  },
  {
   "cell_type": "code",
   "execution_count": 26,
   "id": "1fc800fe",
   "metadata": {},
   "outputs": [
    {
     "data": {
      "text/plain": [
       "array([[ 0,  7, -3,  0, -4],\n",
       "       [-7,  0, -8,  2,  8],\n",
       "       [ 3,  8,  0,  6,  5],\n",
       "       [ 0, -2, -6,  0, -3],\n",
       "       [ 4, -8, -5,  3,  0]])"
      ]
     },
     "execution_count": 26,
     "metadata": {},
     "output_type": "execute_result"
    }
   ],
   "source": [
    "# part 3 : Formula for mixing skey/symmetric matrices\n",
    "\n",
    "# B = (1 - p)*(A + A') + p(A - A')       #0 < p <1\n",
    "A = np.random.randint(10, size=(5, 5))\n",
    "p = 1\n",
    "B = (1 - p)*(A + A.T) + p*(A - A.T)\n",
    "B"
   ]
  },
  {
   "cell_type": "code",
   "execution_count": 27,
   "id": "79e3937c",
   "metadata": {},
   "outputs": [
    {
     "data": {
      "image/png": "[encoded data removed]",
      "text/plain": [
       "<Figure size 432x288 with 1 Axes>"
      ]
     },
     "metadata": {
      "needs_background": "light"
     },
     "output_type": "display_data"
    }
   ],
   "source": [
    "# part 4 : Test on random matrices\n",
    "ps = np.linspace(0, 1, 50)\n",
    "mai = np.zeros(len(ps))\n",
    "\n",
    "for i in range(len(ps)):\n",
    "    # create a matrix\n",
    "    p = ps[i]\n",
    "    A = np.random.randint(10, size=(5, 5))\n",
    "    B = (1 - p)*(A + A.T) + p*(A - A.T)\n",
    "    \n",
    "    # compute and store the MAI\n",
    "    mai[i] = MatrixAsymmetryIndex(B)\n",
    "\n",
    "plt.plot(ps, mai, 's-')\n",
    "plt.show()"
   ]
  }
 ],
 "metadata": {
  "kernelspec": {
   "display_name": "Python 3 (ipykernel)",
   "language": "python",
   "name": "python3"
  },
  "language_info": {
   "codemirror_mode": {
    "name": "ipython",
    "version": 3
   },
   "file_extension": ".py",
   "mimetype": "text/x-python",
   "name": "python",
   "nbconvert_exporter": "python",
   "pygments_lexer": "ipython3",
   "version": "3.8.8"
  }
 },
 "nbformat": 4,
 "nbformat_minor": 5
}
