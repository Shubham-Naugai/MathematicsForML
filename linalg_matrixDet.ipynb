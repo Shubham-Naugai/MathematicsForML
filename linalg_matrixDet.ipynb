{
 "cells": [
  {
   "cell_type": "code",
   "execution_count": 1,
   "id": "5aa5eb34",
   "metadata": {},
   "outputs": [],
   "source": [
    "import numpy as np\n",
    "import matplotlib.pyplot as plt"
   ]
  },
  {
   "cell_type": "code",
   "execution_count": 2,
   "id": "594810af",
   "metadata": {},
   "outputs": [
    {
     "name": "stdout",
     "output_type": "stream",
     "text": [
      "Matrix A: \n",
      " [[1 3]\n",
      " [1 3]]\n",
      "\n",
      "Determinant of A =  0.0\n",
      "Rank of A =  1\n",
      "\n",
      "Matrix B: \n",
      " [[19 16 17 ...  0  3  3]\n",
      " [ 6 13 15 ... 17 18 15]\n",
      " [ 6 15  6 ...  2  0 19]\n",
      " ...\n",
      " [15  2  0 ... 10 12 11]\n",
      " [ 2 19 16 ...  6  4 17]\n",
      " [12 12 13 ... 13  2 12]]\n",
      "\n",
      "Determinant of B =  -4.689922453412444e+57\n",
      "Rank of B =  51\n"
     ]
    }
   ],
   "source": [
    "# Code Practice 1: Determinant of small and Large singular matrices\n",
    "\n",
    "# singular matrix (reduce- rank matrix) has a determinant of 0:\n",
    "\"\"\"\n",
    "generate a 2x2 matrix of integers and with linear dependencies\n",
    "compute the rank\n",
    "\"\"\"\n",
    "A = np.array([[1, 3], [1, 3]])\n",
    "print(\"Matrix A: \\n\", A), print()\n",
    "print(\"Determinant of A = \", np.linalg.det(A))\n",
    "print(\"Rank of A = \", np.linalg.matrix_rank(A))\n",
    "print()\n",
    "\"\"\"\n",
    "generate mxm matrices\n",
    "impose linear dependencies\n",
    "compute the rank\n",
    "small m and for large m\n",
    "\"\"\"\n",
    "m = 52\n",
    "B = np.random.randint(20, size=(m, m))\n",
    "print(\"Matrix B: \\n\", B), print()\n",
    "B[:, 0] = B[:, 1]\n",
    "print(\"Determinant of B = \", np.linalg.det(B))\n",
    "print(\"Rank of B = \", np.linalg.matrix_rank(B))"
   ]
  },
  {
   "cell_type": "code",
   "execution_count": 3,
   "id": "d68b71c2",
   "metadata": {},
   "outputs": [
    {
     "name": "stdout",
     "output_type": "stream",
     "text": [
      "[-17.999999999999996, -12.000000000000005, 216.00000000000006, 216.00000000000006]\n"
     ]
    }
   ],
   "source": [
    "# Code Practice 2: Determinant of (A*B) and Determinant of A and Determinant of B\n",
    "# 1) for random 3x3 matrices\n",
    "# 2) in a loop over random matrix sizes up to 40x40\n",
    "\n",
    "A = np.random.randint(10, size=(3, 3))\n",
    "B = np.random.randint(10, size=(3, 3))\n",
    "\n",
    "AB = A@B\n",
    "print([np.linalg.det(A), np.linalg.det(B), np.linalg.det(A)*np.linalg.det(B), np.linalg.det(AB)])"
   ]
  },
  {
   "cell_type": "code",
   "execution_count": 4,
   "id": "b7987ba1",
   "metadata": {},
   "outputs": [
    {
     "data": {
      "image/png": "[encoded data removed]",
      "text/plain": [
       "<Figure size 432x288 with 1 Axes>"
      ]
     },
     "metadata": {
      "needs_background": "light"
     },
     "output_type": "display_data"
    }
   ],
   "source": [
    "dets = np.zeros((40, 2))\n",
    "\n",
    "for k in range(40):\n",
    "    A = np.random.randint(10, size=(k, k))\n",
    "    B = np.random.randint(10, size=(k, k))\n",
    "\n",
    "    AB = A@B\n",
    "    \n",
    "    dets[k,0] = np.linalg.det(A)*np.linalg.det(B)\n",
    "    dets[k,1] = np.linalg.det(AB)\n",
    "\n",
    "plt.plot(dets[:,0]-dets[:,1],'s-')\n",
    "plt.ylim([-1,1])\n",
    "plt.show()"
   ]
  },
  {
   "cell_type": "code",
   "execution_count": 5,
   "id": "e80c7a18",
   "metadata": {},
   "outputs": [
    {
     "name": "stdout",
     "output_type": "stream",
     "text": [
      "Matrix A: \n",
      " [[ 3 11 14 12  8  0]\n",
      " [ 4  2  9  2 12 15]\n",
      " [10  7 15 19 11 14]\n",
      " [12 16  1 10  1 13]\n",
      " [ 8  6  0 13 16  9]\n",
      " [16 18 19  4  2  2]]\n",
      "\n",
      "Determinant of A =  12026451.000000007\n",
      "\n",
      "Matrix A after swaping 1 row: \n",
      " [[ 3 11 14 12  8  0]\n",
      " [10  7 15 19 11 14]\n",
      " [ 4  2  9  2 12 15]\n",
      " [12 16  1 10  1 13]\n",
      " [ 8  6  0 13 16  9]\n",
      " [16 18 19  4  2  2]]\n",
      "\n",
      "Determinant of A after swaping 1 row =  -12026451.000000007\n",
      "\n",
      "Matrix A after swaping 2 row: \n",
      " [[ 3 11 14 12  8  0]\n",
      " [10  7 15 19 11 14]\n",
      " [ 4  2  9  2 12 15]\n",
      " [ 8  6  0 13 16  9]\n",
      " [12 16  1 10  1 13]\n",
      " [16 18 19  4  2  2]]\n",
      "\n",
      "Determinant of A after swaping 2 row =  12026451.000000007\n",
      "\n"
     ]
    }
   ],
   "source": [
    "# Code Practice 3: Determinant of large matrices with row exchanges\n",
    "# generate a matrix 6x6 matrix\n",
    "A = np.random.randint(20, size=(6, 6))\n",
    "print(\"Matrix A: \\n\", A), print()\n",
    "\n",
    "# - compute the determinant\n",
    "print(\"Determinant of A = \", np.linalg.det(A))\n",
    "print()\n",
    "\n",
    "# % -swap one row, det again\n",
    "As = A[[0, 2, 1, 3, 4, 5], :]      # this swapping only apllicable on numpy array\n",
    "print(\"Matrix A after swaping 1 row: \\n\", As), print()\n",
    "print(\"Determinant of A after swaping 1 row = \", np.linalg.det(As))\n",
    "print()\n",
    "\n",
    "# -swap two rows, det again\n",
    "Ass = A[[0, 2, 1, 4, 3, 5], :]\n",
    "print(\"Matrix A after swaping 2 row: \\n\", Ass), print()\n",
    "print(\"Determinant of A after swaping 2 row = \", np.linalg.det(Ass))\n",
    "print()"
   ]
  },
  {
   "cell_type": "code",
   "execution_count": 6,
   "id": "9d430c4a",
   "metadata": {},
   "outputs": [
    {
     "data": {
      "image/png": "[encoded data removed]",
      "text/plain": [
       "<Figure size 432x288 with 1 Axes>"
      ]
     },
     "metadata": {
      "needs_background": "light"
     },
     "output_type": "display_data"
    }
   ],
   "source": [
    "# Code Practice 4: Determinant of shifted matrices\n",
    "\"\"\"\n",
    "generate a square random matrx (20x20)\n",
    "impose a linear dependence\n",
    "\"shift\" the matrix (0->.1 times the identity matrix) (lambda)\n",
    "compute the abs(determinant) of shifted matrix\n",
    "repeat a 1000 times, take the average abs(det)\n",
    "plot of determinant as a function of lambda\n",
    "\n",
    "\"\"\"\n",
    "lambdas = np.linspace(0, .1, 30)\n",
    "temp = np.zeros(1000)\n",
    "\n",
    "# initialize the determinant vector\n",
    "dets = np.zeros(len(lambdas));\n",
    "\n",
    "for deti in range(len(lambdas)):\n",
    "    \n",
    "    # run 1000 iterations\n",
    "    for i in range(1000):\n",
    "        \n",
    "        # generate a matrix\n",
    "        M = np.random.randint(10, size=(20, 20))\n",
    "        M[:, 0] = M[:, 1]\n",
    "        \n",
    "        # compute the determinant\n",
    "        temp[i] = abs(np.linalg.det(M + lambdas[deti]*np.eye(20)))\n",
    "        \n",
    "    # compute average determinant\n",
    "    dets[deti] = np.mean(temp)\n",
    "\n",
    "plt.plot(lambdas, dets, \"s-\")\n",
    "plt.xlabel(\"Fraction of identity for shifting\")\n",
    "plt.ylabel(\"determinant\")\n",
    "plt.show()"
   ]
  }
 ],
 "metadata": {
  "kernelspec": {
   "display_name": "Python 3 (ipykernel)",
   "language": "python",
   "name": "python3"
  },
  "language_info": {
   "codemirror_mode": {
    "name": "ipython",
    "version": 3
   },
   "file_extension": ".py",
   "mimetype": "text/x-python",
   "name": "python",
   "nbconvert_exporter": "python",
   "pygments_lexer": "ipython3",
   "version": "3.8.8"
  }
 },
 "nbformat": 4,
 "nbformat_minor": 5
}
