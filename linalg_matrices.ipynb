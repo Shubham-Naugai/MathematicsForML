{
 "cells": [
  {
   "cell_type": "code",
   "execution_count": 1,
   "id": "6edabce7",
   "metadata": {},
   "outputs": [],
   "source": [
    "import numpy as np"
   ]
  },
  {
   "cell_type": "code",
   "execution_count": 2,
   "id": "773ca16a",
   "metadata": {},
   "outputs": [
    {
     "name": "stdout",
     "output_type": "stream",
     "text": [
      "Square Matrix: \n",
      " [[3 3 6 0 5]\n",
      " [0 4 8 0 3]\n",
      " [1 6 4 4 8]\n",
      " [9 4 5 8 7]\n",
      " [4 3 5 3 4]]\n",
      " \n",
      "Rectangular Matrix: \n",
      " [[8 5]\n",
      " [5 7]\n",
      " [2 2]\n",
      " [2 8]\n",
      " [7 9]]\n",
      "Identity Matrix: \n",
      " [[1. 0. 0.]\n",
      " [0. 1. 0.]\n",
      " [0. 0. 1.]]\n",
      " \n",
      "Zero Matrix: \n",
      " [[0. 0. 0. 0.]\n",
      " [0. 0. 0. 0.]\n",
      " [0. 0. 0. 0.]\n",
      " [0. 0. 0. 0.]]\n",
      " \n",
      "Diagonal Matrix: \n",
      " [[1 0 0 0 0]\n",
      " [0 2 0 0 0]\n",
      " [0 0 3 0 0]\n",
      " [0 0 0 5 0]\n",
      " [0 0 0 0 2]]\n",
      " \n",
      "Full matrix: \n",
      " [[5 2 7 8 8]\n",
      " [0 3 4 6 5]\n",
      " [5 7 5 6 8]\n",
      " [5 2 1 2 3]\n",
      " [7 1 8 2 1]]\n",
      " \n",
      "Upper triangular Matrix: \n",
      " [[5 2 7 8 8]\n",
      " [0 3 4 6 5]\n",
      " [0 0 5 6 8]\n",
      " [0 0 0 2 3]\n",
      " [0 0 0 0 1]]\n",
      " \n",
      "Lower triangular Matrix: \n",
      " [[5 0 0 0 0]\n",
      " [0 3 0 0 0]\n",
      " [5 7 5 0 0]\n",
      " [5 2 1 2 0]\n",
      " [7 1 8 2 1]]\n",
      " \n",
      "Augmented Matrix: \n",
      " [[2 9 8 5 3 0]\n",
      " [6 8 1 5 7 1]\n",
      " [6 7 8 7 8 7]]\n"
     ]
    }
   ],
   "source": [
    "# square vs. rectangular\n",
    "S = np.random.randint(10, size=(5,5))\n",
    "R = np.random.randint(10, size=(5,2)) # 5 rows, 2 columns\n",
    "\n",
    "print(\"Square Matrix: \\n\", S), print(' ')\n",
    "print(\"Rectangular Matrix: \\n\", R)\n",
    "\n",
    "# identity matrix\n",
    "I = np.eye(3)   # as idenetity matrix alwayas be a square matrix so we don't need to write 3, 3 or 2, 2\n",
    "print(\"Identity Matrix: \\n\", I), print(' ')\n",
    "\n",
    "# zeros matrix\n",
    "\"\"\" here we put tupple (4, 4) beacuse if we put 4,4 i will through error as the zeroes function looking for\n",
    "first input to be the sizes and second input to be the data type\n",
    "for example:\n",
    "Z = np.zeros((4, 4), dtype=\"complex\")\n",
    "So if write np.zeros(4, 4) it will take second 4 as data type and because 4 is not data type so error occurs\"\"\"\n",
    "# Z = np.zeros((4, 4), dtype=\"complex\")\n",
    "# print(Z), print(' ')\n",
    "\n",
    "Z = np.zeros((4,4))\n",
    "print(\"Zero Matrix: \\n\", Z), print(' ')\n",
    "\n",
    "# diagonal matrix\n",
    "D = np.diag([ 1, 2, 3, 5, 2 ])\n",
    "print(\"Diagonal Matrix: \\n\", D), print(' ')\n",
    "\n",
    "# create triangular matrix from full matrices\n",
    "S = np.random.randint(10, size=(5,5))\n",
    "print(\"Full matrix: \\n\", S), print(' ')\n",
    "U = np.triu(S)   # upper\n",
    "L = np.tril(S)   # lower\n",
    "print(\"Upper triangular Matrix: \\n\", U), print(' ')\n",
    "print(\"Lower triangular Matrix: \\n\", L), print(' ')\n",
    "\n",
    "# concatenate matrices (sizes must match!)\n",
    "A = np.random.randint(10, size=(3,2))\n",
    "B = np.random.randint(10, size=(3,4))\n",
    "\n",
    "C = np.concatenate((A,B),axis=1)   # axis=1 concatinate the martix horizontally\n",
    "print(\"Augmented Matrix: \\n\", C)"
   ]
  },
  {
   "cell_type": "markdown",
   "id": "4e352706",
   "metadata": {},
   "source": [
    "# Matrix addition and subtraction"
   ]
  },
  {
   "cell_type": "code",
   "execution_count": 3,
   "id": "f5ad1060",
   "metadata": {},
   "outputs": [
    {
     "name": "stdout",
     "output_type": "stream",
     "text": [
      "Matrix A: \n",
      " [[7 8 0 2]\n",
      " [9 1 9 4]\n",
      " [6 1 9 5]\n",
      " [0 4 7 4]\n",
      " [0 6 7 0]]\n",
      "\n",
      "Matrix B: \n",
      " [[6 9 2]\n",
      " [9 8 8]\n",
      " [8 3 9]\n",
      " [4 1 6]\n",
      " [0 8 6]]\n",
      "\n",
      "Matrix C: \n",
      " [[3 2 6 9]\n",
      " [3 8 0 3]\n",
      " [2 4 1 2]\n",
      " [5 1 0 0]\n",
      " [3 5 7 9]]\n",
      "\n",
      "Matrix A + Matrix B:  operands could not be broadcast together with shapes (5,4) (5,3) \n",
      "\n",
      "Matrix A + Matrix C: \n",
      " [[10 10  6 11]\n",
      " [12  9  9  7]\n",
      " [ 8  5 10  7]\n",
      " [ 5  5  7  4]\n",
      " [ 3 11 14  9]]\n",
      "\n",
      "Original Matrix: \n",
      " [[3 6 5 1 5]\n",
      " [5 6 2 2 7]\n",
      " [1 8 5 7 8]\n",
      " [1 1 2 5 1]\n",
      " [7 8 9 4 7]]\n",
      " \n",
      "Shifted Matrix: \n",
      " [[3.03 6.   5.   1.   5.  ]\n",
      " [5.   6.03 2.   2.   7.  ]\n",
      " [1.   8.   5.03 7.   8.  ]\n",
      " [1.   1.   2.   5.03 1.  ]\n",
      " [7.   8.   9.   4.   7.03]]\n"
     ]
    },
    {
     "data": {
      "text/plain": [
       "(None, None, None)"
      ]
     },
     "execution_count": 3,
     "metadata": {},
     "output_type": "execute_result"
    }
   ],
   "source": [
    "# create random matrices\n",
    "A = np.random.randint(10, size=(5,4))\n",
    "B = np.random.randint(10, size=(5,3))\n",
    "C = np.random.randint(10, size=(5,4))\n",
    "\n",
    "print(\"Matrix A: \\n\", A)\n",
    "print()\n",
    "print(\"Matrix B: \\n\", B)\n",
    "print()\n",
    "print(\"Matrix C: \\n\", C)\n",
    "print()\n",
    "\n",
    "# try to add them\n",
    "# A+B     # produce error\n",
    "try:\n",
    "    print(\"Matrix A + Matrix B: \\n\", A+B)\n",
    "except Exception as e:\n",
    "    print(\"Matrix A + Matrix B: \", e)\n",
    "print()\n",
    "\n",
    "print(\"Matrix A + Matrix C: \\n\", A+C)\n",
    "print()\n",
    "\n",
    "# \"shifting\" a matrix\n",
    "l = .03 # lambda\n",
    "N = 5  # size of square matrix\n",
    "D = np.random.randint(10, size=(N,N)) # can only shift a square matrix\n",
    "\n",
    "Ds = D + l*np.eye(N)\n",
    "print(\"Original Matrix: \\n\", D), print(' '), print(\"Shifted Matrix: \\n\", Ds)"
   ]
  },
  {
   "cell_type": "markdown",
   "id": "a0d8446b",
   "metadata": {},
   "source": [
    "# Matrix-scalar multiplication"
   ]
  },
  {
   "cell_type": "code",
   "execution_count": 4,
   "id": "a0add542",
   "metadata": {},
   "outputs": [
    {
     "name": "stdout",
     "output_type": "stream",
     "text": [
      "Original Matrix: \n",
      " [[1 2]\n",
      " [2 5]]\n",
      "\n",
      "Pre multiplication of Matrix with scalar s=2: \n",
      " [[ 2  4]\n",
      " [ 4 10]]\n",
      "\n",
      "post multiplication of Matrix with scalar s=2: \n",
      " [[ 2  4]\n",
      " [ 4 10]]\n"
     ]
    }
   ],
   "source": [
    "# define matrix and scalar\n",
    "M = np.array([ [1, 2], [2, 5] ])\n",
    "print(\"Original Matrix: \\n\", M)\n",
    "s = 2\n",
    "print()\n",
    "\n",
    "# pre- and post-multiplication is the same:\n",
    "print(f\"Pre multiplication of Matrix with scalar s={s}: \\n\", M*s)\n",
    "print()\n",
    "print(f\"post multiplication of Matrix with scalar s={s}: \\n\", s*M )"
   ]
  },
  {
   "cell_type": "code",
   "execution_count": 5,
   "id": "1afd1b95",
   "metadata": {},
   "outputs": [
    {
     "name": "stdout",
     "output_type": "stream",
     "text": [
      "Matrix A: \n",
      " [[6 7 5 8]\n",
      " [9 1 0 5]\n",
      " [9 7 0 0]\n",
      " [6 9 7 8]\n",
      " [0 6 3 0]]\n",
      "\n",
      "Matrix B: \n",
      " [[6 5 5 0]\n",
      " [4 1 7 5]\n",
      " [1 4 7 9]\n",
      " [4 1 8 6]\n",
      " [3 3 8 1]]\n",
      "\n",
      "Scalar s =  1\n",
      "\n",
      "s(A+B) = \n",
      " [[12 12 10  8]\n",
      " [13  2  7 10]\n",
      " [10 11  7  9]\n",
      " [10 10 15 14]\n",
      " [ 3  9 11  1]]\n",
      "\n",
      "sA + sB = \n",
      " [[12 12 10  8]\n",
      " [13  2  7 10]\n",
      " [10 11  7  9]\n",
      " [10 10 15 14]\n",
      " [ 3  9 11  1]]\n"
     ]
    }
   ],
   "source": [
    "# Code practice 1:\n",
    "# test for some random MxN matrices whether s(A+B) = sA + sB\n",
    "\"\"\"Distributivity\"\"\"\n",
    "\n",
    "A = np.random.randint(10, size=(5,4))\n",
    "B = np.random.randint(10, size=(5,4))\n",
    "\n",
    "print(\"Matrix A: \\n\", A)\n",
    "print()\n",
    "print(\"Matrix B: \\n\", B)\n",
    "print()\n",
    "\n",
    "s = np.random.randint(10)\n",
    "print(\"Scalar s = \", s)\n",
    "print()\n",
    "\n",
    "print(\"s(A+B) = \\n\", s*(A+B))\n",
    "print()\n",
    "\n",
    "print(\"sA + sB = \\n\", (s*A + s*B))"
   ]
  },
  {
   "cell_type": "markdown",
   "id": "b020a37f",
   "metadata": {},
   "source": [
    "# Transpose of a Matrix"
   ]
  },
  {
   "cell_type": "code",
   "execution_count": 6,
   "id": "11a2d661",
   "metadata": {},
   "outputs": [
    {
     "name": "stdout",
     "output_type": "stream",
     "text": [
      "Matrix M: \n",
      " [[4 3 7]\n",
      " [4 4 2]]\n",
      "\n",
      "Transpose of Matrix M: \n",
      " [[4 4]\n",
      " [3 4]\n",
      " [7 2]]\n",
      "\n",
      "Transpose of Transpose of Matrix M (M''): \n",
      " [[4 3 7]\n",
      " [4 4 2]]\n",
      "\n"
     ]
    }
   ],
   "source": [
    "M = np.random.randint(10, size=(2,3))\n",
    "print(\"Matrix M: \\n\", M)\n",
    "print()\n",
    "print(\"Transpose of Matrix M: \\n\", M.T)\n",
    "print()\n",
    "print(\"Transpose of Transpose of Matrix M (M''): \\n\", M.T.T)\n",
    "print()\n",
    "\n",
    "# can also use the transpose function\n",
    "# print(np.transpose(M))"
   ]
  },
  {
   "cell_type": "code",
   "execution_count": 7,
   "id": "344e4a90",
   "metadata": {},
   "outputs": [
    {
     "name": "stdout",
     "output_type": "stream",
     "text": [
      "Matrix M: \n",
      " [[2.+8.j 0.+1.j 0.+5.j 9.+3.j 1.+0.j]\n",
      " [8.+4.j 9.+9.j 8.+8.j 2.+9.j 9.+0.j]\n",
      " [1.+9.j 7.+6.j 5.+6.j 3.+0.j 4.+8.j]\n",
      " [3.+2.j 4.+8.j 2.+7.j 7.+9.j 8.+8.j]\n",
      " [1.+7.j 8.+0.j 5.+3.j 6.+1.j 0.+3.j]]\n",
      "\n",
      "Transpose of Matrix M: \n",
      " [[2.+8.j 8.+4.j 1.+9.j 3.+2.j 1.+7.j]\n",
      " [0.+1.j 9.+9.j 7.+6.j 4.+8.j 8.+0.j]\n",
      " [0.+5.j 8.+8.j 5.+6.j 2.+7.j 5.+3.j]\n",
      " [9.+3.j 2.+9.j 3.+0.j 7.+9.j 6.+1.j]\n",
      " [1.+0.j 9.+0.j 4.+8.j 8.+8.j 0.+3.j]]\n",
      "\n",
      "Hermition Transpose of Matrix M: \n",
      " [[2.-8.j 8.-4.j 1.-9.j 3.-2.j 1.-7.j]\n",
      " [0.-1.j 9.-9.j 7.-6.j 4.-8.j 8.-0.j]\n",
      " [0.-5.j 8.-8.j 5.-6.j 2.-7.j 5.-3.j]\n",
      " [9.-3.j 2.-9.j 3.-0.j 7.-9.j 6.-1.j]\n",
      " [1.-0.j 9.-0.j 4.-8.j 8.-8.j 0.-3.j]]\n",
      "\n"
     ]
    }
   ],
   "source": [
    "# Creating a Matrix of random complex numbers\n",
    "M = np.random.randint(10, size=(5,5)) + np.random.randint(10, size=(5,5)) * 1j\n",
    "print(\"Matrix M: \\n\", M)\n",
    "print()\n",
    "print(\"Transpose of Matrix M: \\n\", M.T)\n",
    "print()\n",
    "\n",
    "# Hermition transpose of Matrix\n",
    "print(\"Hermition Transpose of Matrix M: \\n\", np.matrix(M).H)  # first converting the numpy array to a matrix object\n",
    "print()"
   ]
  },
  {
   "cell_type": "markdown",
   "id": "b13f25be",
   "metadata": {},
   "source": [
    "# Diagonal and Trace"
   ]
  },
  {
   "cell_type": "code",
   "execution_count": 8,
   "id": "7129dac5",
   "metadata": {},
   "outputs": [
    {
     "name": "stdout",
     "output_type": "stream",
     "text": [
      "Original Matrix: \n",
      " [[7 5 9 2 0]\n",
      " [7 4 0 7 4]\n",
      " [0 9 6 4 5]\n",
      " [6 0 2 1 4]\n",
      " [0 3 5 3 8]]\n",
      " \n",
      "Matrix-(I) --> Vector-(O)\n",
      " [7 4 6 1 8]\n",
      "\n",
      "Vector-(I) --> Matrix-(O)\n",
      " [[7 0 0 0 0]\n",
      " [0 4 0 0 0]\n",
      " [0 0 6 0 0]\n",
      " [0 0 0 1 0]\n",
      " [0 0 0 0 8]]\n",
      "\n",
      "Trace of a Matrix:  26 26\n"
     ]
    }
   ],
   "source": [
    "# M = np.round(np.random.randn(4,4))\n",
    "M = np.random.randint(10, size=(5,5))\n",
    "print(\"Original Matrix: \\n\", M), print(' ')\n",
    "\n",
    "# extract the diagonals\n",
    "d = np.diag(M)\n",
    "\n",
    "# notice the two ways of using the diag function\n",
    "d = np.diag(M) # input is matrix, output is vector\n",
    "D = np.diag(d) # input is vector, output is matrix\n",
    "print(\"Matrix-(I) --> Vector-(O)\\n\", d)\n",
    "print()\n",
    "print(\"Vector-(I) --> Matrix-(O)\\n\", D)\n",
    "print()\n",
    "\n",
    "# trace as sum of diagonal elements\n",
    "tr = np.trace(M)\n",
    "tr2 = sum(np.diag(M))\n",
    "print(\"Trace of a Matrix: \", tr,tr2)"
   ]
  },
  {
   "cell_type": "code",
   "execution_count": 9,
   "id": "2ccdc335",
   "metadata": {},
   "outputs": [
    {
     "name": "stdout",
     "output_type": "stream",
     "text": [
      "Matrix A: \n",
      " [[0 2 7 6 3]\n",
      " [4 6 5 5 1]\n",
      " [4 1 0 5 3]\n",
      " [4 8 0 7 5]\n",
      " [3 7 0 5 5]]\n",
      " \n",
      "Matrix B: \n",
      " [[3 4 0 6 3]\n",
      " [7 7 3 3 4]\n",
      " [8 5 6 2 1]\n",
      " [9 5 1 8 0]\n",
      " [3 0 3 2 9]]\n",
      " \n",
      "Trace(A+B) \n",
      " 51\n",
      "\n",
      "Trace(A) + Trace(B) \n",
      " 51\n",
      "\n",
      "Trace(l*A) \n",
      " 36\n",
      "\n",
      "l*Trace(A) \n",
      " 36\n"
     ]
    }
   ],
   "source": [
    "# Code Practice 2:\n",
    "# Determine the linearity of Trace i.e., tr(A+B) = tr(A) + tr(B)\n",
    "# and check tr(l*A) vs l*tr(A)\n",
    "\n",
    "\"\"\" Let's start \"\"\"\n",
    "\n",
    "A = np.random.randint(10, size=(5,5))\n",
    "B = np.random.randint(10, size=(5,5))\n",
    "\n",
    "print(\"Matrix A: \\n\", A), print(' ')\n",
    "print(\"Matrix B: \\n\", B), print(' ')\n",
    "\n",
    "print(\"Trace(A+B) \\n\", np.trace(A+B))\n",
    "print()\n",
    "print(\"Trace(A) + Trace(B) \\n\", (np.trace(A)+np.trace(B)))\n",
    "print()\n",
    "\n",
    "print(\"Trace(l*A) \\n\", np.trace(2*A))\n",
    "print()\n",
    "print(\"l*Trace(A) \\n\", (2*np.trace(A)))\n",
    "\n"
   ]
  },
  {
   "cell_type": "markdown",
   "id": "a09987f4",
   "metadata": {},
   "source": [
    "# Broadcasting matrix arithmetic"
   ]
  },
  {
   "cell_type": "code",
   "execution_count": 10,
   "id": "852610de",
   "metadata": {},
   "outputs": [
    {
     "name": "stdout",
     "output_type": "stream",
     "text": [
      "[[ 1  4  7 10]\n",
      " [ 2  5  8 11]\n",
      " [ 3  6  9 12]]\n",
      " \n",
      "[10, 20, 30, 40]\n",
      " \n",
      "[100, 200, 300]\n",
      " \n"
     ]
    },
    {
     "data": {
      "text/plain": [
       "(None, None)"
      ]
     },
     "execution_count": 10,
     "metadata": {},
     "output_type": "execute_result"
    }
   ],
   "source": [
    "# create a matrix\n",
    "A = np.reshape(np.arange(1,13),(3,4),'F') # F=column, C=row\n",
    "\n",
    "# and two vectors\n",
    "r = [ 10, 20, 30, 40 ]\n",
    "c = [ 100, 200, 300 ]\n",
    "\n",
    "print(A), print(' ')\n",
    "print(r), print(' ')     # Used as Row vector\n",
    "print(c), print(' ')     # Used as Column vector"
   ]
  },
  {
   "cell_type": "code",
   "execution_count": 11,
   "id": "9b081292",
   "metadata": {},
   "outputs": [
    {
     "name": "stdout",
     "output_type": "stream",
     "text": [
      "[[11 24 37 50]\n",
      " [12 25 38 51]\n",
      " [13 26 39 52]]\n",
      " \n",
      "[[101 104 107 110]\n",
      " [202 205 208 211]\n",
      " [303 306 309 312]]\n"
     ]
    }
   ],
   "source": [
    "\"\"\" Broadcasting \"\"\"\n",
    "# broadcast on the rows\n",
    "print(A+r), print(' ')\n",
    "\n",
    "# broadcast on the columns\n",
    "# print(A+c)\n",
    "print(A+np.reshape(c,(len(c),1))) # only works for explicit column vectors"
   ]
  },
  {
   "cell_type": "code",
   "execution_count": null,
   "id": "a0f15f1d",
   "metadata": {},
   "outputs": [],
   "source": []
  }
 ],
 "metadata": {
  "kernelspec": {
   "display_name": "Python 3",
   "language": "python",
   "name": "python3"
  },
  "language_info": {
   "codemirror_mode": {
    "name": "ipython",
    "version": 3
   },
   "file_extension": ".py",
   "mimetype": "text/x-python",
   "name": "python",
   "nbconvert_exporter": "python",
   "pygments_lexer": "ipython3",
   "version": "3.8.8"
  }
 },
 "nbformat": 4,
 "nbformat_minor": 5
}
