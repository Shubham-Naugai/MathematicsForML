{
 "cells": [
  {
   "cell_type": "code",
   "execution_count": 1,
   "id": "f82213dd",
   "metadata": {},
   "outputs": [],
   "source": [
    "import numpy as np\n",
    "from sympy import *\n",
    "import matplotlib.pyplot as plt"
   ]
  },
  {
   "cell_type": "markdown",
   "id": "c0773648",
   "metadata": {},
   "source": [
    "# Concept and uses of the inverse"
   ]
  },
  {
   "cell_type": "code",
   "execution_count": 2,
   "id": "5a8921e3",
   "metadata": {},
   "outputs": [
    {
     "name": "stdout",
     "output_type": "stream",
     "text": [
      "[[ 1.00000000e+00 -1.58604297e-18  1.96029875e-17]\n",
      " [ 3.08838379e-17  1.00000000e+00  1.66645107e-16]\n",
      " [-9.77199139e-18 -2.75912069e-17  1.00000000e+00]]\n"
     ]
    }
   ],
   "source": [
    "# size of square matrix\n",
    "m = 3\n",
    "\n",
    "# generate random matrix\n",
    "A = np.random.randn(m,m)\n",
    "\n",
    "# compute its inverse\n",
    "Ainv = np.linalg.inv(A)\n",
    "\n",
    "# and check the multiplication\n",
    "idm = A@Ainv\n",
    "\n",
    "# print the matrix. Note the computer rounding errors on the off-diagonals\n",
    "print(idm)"
   ]
  },
  {
   "cell_type": "code",
   "execution_count": 3,
   "id": "9b87e4aa",
   "metadata": {},
   "outputs": [
    {
     "data": {
      "image/png": "[encoded data removed]",
      "text/plain": [
       "<Figure size 432x288 with 3 Axes>"
      ]
     },
     "metadata": {
      "needs_background": "light"
     },
     "output_type": "display_data"
    }
   ],
   "source": [
    "# show in an image\n",
    "plt.subplot(131)\n",
    "plt.imshow(A)\n",
    "plt.title('Matrix A')\n",
    "\n",
    "plt.subplot(132)\n",
    "plt.imshow(Ainv)\n",
    "plt.title('Matrix $A^{-1}$')\n",
    "\n",
    "plt.subplot(133)\n",
    "plt.imshow(idm)\n",
    "plt.title('AA$^{-1}$')\n",
    "\n",
    "plt.show()"
   ]
  },
  {
   "cell_type": "code",
   "execution_count": 4,
   "id": "3d22db90",
   "metadata": {},
   "outputs": [
    {
     "name": "stdout",
     "output_type": "stream",
     "text": [
      "Matrix A: \n",
      " [[1 7 6 0]\n",
      " [0 2 5 3]\n",
      " [2 5 5 0]\n",
      " [8 6 5 7]]\n",
      "\n",
      "Matrix A inverse: \n",
      " [[-0.36585366 -0.10670732  0.5         0.04573171]\n",
      " [ 0.48780488 -0.14939024 -0.5         0.06402439]\n",
      " [-0.34146341  0.19207317  0.5        -0.08231707]\n",
      " [ 0.24390244  0.11280488 -0.5         0.0945122 ]]\n",
      "\n",
      "A*Ainv: \n",
      " [[ 1.  0.  0. -0.]\n",
      " [ 0.  1.  0. -0.]\n",
      " [-0.  0.  1. -0.]\n",
      " [-0. -0.  0.  1.]]\n"
     ]
    }
   ],
   "source": [
    "# Code Practice 1: Calculate the inverse by actual method adj(A)/|A|\n",
    "# MCA algorithm in code\n",
    "\n",
    "m = 4\n",
    "A = np.random.randint(10, size=(m,m))\n",
    "\n",
    "# Minors Matrix\n",
    "minors = np.zeros((m,m))\n",
    "H = np.zeros((m,m))\n",
    "for i in range(m):\n",
    "    for j in range(m):\n",
    "        \n",
    "        # select rows and columns\n",
    "        rows = [True]*m\n",
    "        rows[i] = False\n",
    "        \n",
    "        cols = [True]*m\n",
    "        cols[j] = False\n",
    "        \n",
    "        # compute minor matrix\n",
    "        minors[i,j] = np.linalg.det(A[rows, :][:, cols])\n",
    "        \n",
    "        # compute H\n",
    "        H[i,j] = (-1)**(i+j)\n",
    "\n",
    "# Cofactor matrix\n",
    "C = H*minors\n",
    "\n",
    "# adjugate matrix\n",
    "adjA = C.T\n",
    "\n",
    "# Inverse of A\n",
    "Ainv = adjA/np.linalg.det(A)\n",
    "\n",
    "print(\"Matrix A: \\n\", A)\n",
    "print()\n",
    "print(\"Matrix A inverse: \\n\", Ainv)\n",
    "print()\n",
    "print(\"A*Ainv: \\n\", np.round(A@Ainv))"
   ]
  },
  {
   "cell_type": "markdown",
   "id": "290164a7",
   "metadata": {},
   "source": [
    "# Computing the inverse via row reduction"
   ]
  },
  {
   "cell_type": "code",
   "execution_count": 5,
   "id": "72593eca",
   "metadata": {},
   "outputs": [
    {
     "name": "stdout",
     "output_type": "stream",
     "text": [
      "MAtrix A: \n",
      " [[0 7 9 9]\n",
      " [5 6 9 2]\n",
      " [3 7 4 1]\n",
      " [8 4 2 9]]\n",
      "\n",
      "Augmented matrix: \n",
      " [[0 7 9 9 1.00000000000000 0.0 0.0 0.0]\n",
      " [5 6 9 2 0.0 1.00000000000000 0.0 0.0]\n",
      " [3 7 4 1 0.0 0.0 1.00000000000000 0.0]\n",
      " [8 4 2 9 0.0 0.0 0.0 1.00000000000000]]\n",
      "\n",
      "Size of augmented matrix: (4, 8)\n",
      "\n",
      "Difference between inverse computed by rref method and by sympy inverse function: \n",
      " [[0 0 0 0]\n",
      " [0 0 0 0]\n",
      " [0 0 0 0]\n",
      " [0 0 0 0]]\n"
     ]
    }
   ],
   "source": [
    "# matrix size\n",
    "m = 4\n",
    "\n",
    "# random integers matrix\n",
    "A = Matrix(np.random.randint(10, size=(m,m)))\n",
    "print(\"MAtrix A: \\n\", np.array(A))\n",
    "print()\n",
    "\n",
    "# augment A and identity\n",
    "Aaug = Matrix(np.concatenate((A, np.eye(m,m)),axis=1))\n",
    "print(\"Augmented matrix: \\n\", np.array(Aaug))\n",
    "print()\n",
    "print('Size of augmented matrix:',Aaug.shape)\n",
    "print()\n",
    "\n",
    "# calculating rref of augmented matrix\n",
    "Asol = Aaug.rref()\n",
    "Asol = Asol[0]\n",
    "# extracting the inverse from augmented matrix(second part)\n",
    "Ainvrref = Asol[:,m:m*2]\n",
    "Ainv = A.inv()\n",
    "print(\"Difference between inverse computed by rref method and by sympy inverse function: \\n\", np.array(Ainvrref - Ainv))"
   ]
  },
  {
   "cell_type": "code",
   "execution_count": 6,
   "id": "35d427e8",
   "metadata": {},
   "outputs": [
    {
     "data": {
      "image/png": "[encoded data removed]",
      "text/plain": [
       "<Figure size 432x288 with 2 Axes>"
      ]
     },
     "metadata": {
      "needs_background": "light"
     },
     "output_type": "display_data"
    }
   ],
   "source": [
    "# show the augemented matrices\n",
    "plt.subplot(211)\n",
    "plt.imshow(matrix2numpy(Aaug,dtype='float'),vmin=-5,vmax=5)\n",
    "plt.title('A|I'), plt.axis('off')\n",
    "\n",
    "plt.subplot(212)\n",
    "plt.imshow(matrix2numpy(Asol,dtype='float'))\n",
    "plt.title('I|A$^{-1}$'), plt.axis('off')\n",
    "\n",
    "plt.show()"
   ]
  },
  {
   "cell_type": "code",
   "execution_count": 7,
   "id": "a6fb96e5",
   "metadata": {},
   "outputs": [
    {
     "data": {
      "image/png": "[encoded data removed]",
      "text/plain": [
       "<Figure size 432x288 with 3 Axes>"
      ]
     },
     "metadata": {
      "needs_background": "light"
     },
     "output_type": "display_data"
    }
   ],
   "source": [
    "# show the square matrices\n",
    "plt.subplot(131)\n",
    "plt.imshow(matrix2numpy(A,dtype='float'))\n",
    "plt.title('Matrix A'), plt.axis('off')\n",
    "\n",
    "plt.subplot(132)\n",
    "plt.imshow(matrix2numpy(Ainvrref,dtype='float'))\n",
    "plt.title('A$^{-1}$ from rref'), plt.axis('off')\n",
    "\n",
    "plt.subplot(133)\n",
    "plt.imshow(matrix2numpy(Ainv,dtype='float'))\n",
    "plt.title('A$^{-1}$ from inv()'), plt.axis('off')\n",
    "\n",
    "plt.show()"
   ]
  },
  {
   "cell_type": "code",
   "execution_count": 8,
   "id": "15a19197",
   "metadata": {},
   "outputs": [
    {
     "name": "stdout",
     "output_type": "stream",
     "text": [
      "[[-0.86369681  0.         -0.          0.         -0.        ]\n",
      " [-0.          0.42916832 -0.         -0.         -0.        ]\n",
      " [ 0.          0.         -0.13451898 -0.          0.        ]\n",
      " [ 0.         -0.          0.          0.28643463  0.        ]\n",
      " [ 0.          0.          0.         -0.         -1.32905431]]\n",
      "\n",
      "[[-1.1578137  -0.         -0.         -0.         -0.        ]\n",
      " [ 0.          2.33008811  0.          0.          0.        ]\n",
      " [-0.         -0.         -7.43389499 -0.         -0.        ]\n",
      " [ 0.          0.          0.          3.49119797  0.        ]\n",
      " [-0.         -0.         -0.         -0.         -0.7524147 ]]\n"
     ]
    }
   ],
   "source": [
    "# Code Practice 2: Inverse of a diagonal matrix\n",
    "\n",
    "# diagonal matrices, and their inverses\n",
    "# create some diagonal matrices\n",
    "m = 5\n",
    "A = np.random.randn(m,m)\n",
    "I = np.eye(m,m)\n",
    "\n",
    "# Diagonal Matrix using Hadamard multiplication \n",
    "DiaMat = A*I\n",
    "print(DiaMat)\n",
    "print()\n",
    "\n",
    "# another way of creating a diagonal matrix\n",
    "# DiaMat = np.diag(np.arange(1, 6))\n",
    "\n",
    "# compute their inverses (condition on the diagonal matrix for invertibility)\n",
    "DiaMatInv = np.linalg.inv(DiaMat)\n",
    "print(np.array(DiaMatInv))"
   ]
  },
  {
   "cell_type": "code",
   "execution_count": 9,
   "id": "39c610ae",
   "metadata": {},
   "outputs": [
    {
     "name": "stdout",
     "output_type": "stream",
     "text": [
      "MAtrix A: \n",
      " [[ 0.0995409   0.28370914 -0.05729269]\n",
      " [-1.17939835  1.3899992  -0.55140317]\n",
      " [-1.39353532 -0.43271141  1.80959511]\n",
      " [-0.88761733 -1.0141663   1.9264426 ]\n",
      " [ 0.16947942 -1.32316903  0.1800591 ]\n",
      " [-1.30373254 -0.31918358  0.93412266]]\n",
      "\n",
      "Rank of A:  3\n",
      "Rank of A'A:  3\n",
      "Rank of AA':  3\n",
      "\n",
      "Left Inverse of A: \n",
      " [[ 0.18364992 -0.48373083  0.00220275  0.13592266 -0.46027662 -0.47013654]\n",
      " [ 0.21914007  0.00495121  0.15208204  0.08084287 -0.74245424 -0.30186099]\n",
      " [ 0.2083797  -0.34652209  0.29725459  0.35413827 -0.61340444 -0.30919193]]\n",
      "\n",
      "Right Inverse of A: \n",
      " [[-4.          5.13086275  0.5         1.27254485 -0.46688724 -8.        ]\n",
      " [-3.          2.36865631  0.          1.01842825  0.46492165 -2.        ]\n",
      " [ 0.          0.26967188  0.5        -1.13236321 -0.38842141 -2.        ]]\n",
      "\n",
      "[[ 1.  0. -0.]\n",
      " [ 0.  1. -0.]\n",
      " [ 0.  0.  1.]]\n",
      "\n",
      "[[-1.24929101  1.1672899   0.02112411  0.48048379  0.10768185 -1.24916009]\n",
      " [ 0.5475958  -2.90759862 -0.86540076  0.53916581  1.41106356  7.75799472]\n",
      " [ 6.8722755  -7.68698616  0.2080299  -4.26314064 -0.25343853  8.39451514]\n",
      " [ 6.59296822 -6.43694671  0.51941264 -4.3438212  -0.80536222  5.27638602]\n",
      " [ 3.29158941 -2.21600015  0.17476926 -1.33577485 -0.76423651  0.93038451]\n",
      " [ 6.17248091 -7.19340233 -0.18480494 -3.04188985  0.09746749  9.19998215]]\n"
     ]
    }
   ],
   "source": [
    "# Code Practice 3: One sided inverse\n",
    "\n",
    "m = 6\n",
    "n = 3\n",
    "\n",
    "# create matrix\n",
    "A = np.random.randn(m,n)\n",
    "print(\"MAtrix A: \\n\", A)\n",
    "print()\n",
    "\n",
    "AtA = A.T@A       # for left side inverse\n",
    "AAt = A@A.T       # for right side inverse\n",
    "\n",
    "# inspect rank\n",
    "print(\"Rank of A: \", np.linalg.matrix_rank(A))\n",
    "print(\"Rank of A'A: \", np.linalg.matrix_rank(AtA))\n",
    "print(\"Rank of AA': \", np.linalg.matrix_rank(AAt))\n",
    "print()\n",
    "\n",
    "# Left inverse\n",
    "Aleft = np.linalg.inv(AtA)@A.T\n",
    "print(\"Left Inverse of A: \\n\", Aleft)\n",
    "print()\n",
    "\n",
    "# Right inverse\n",
    "Aright = A.T@np.linalg.inv(AAt)\n",
    "print(\"Right Inverse of A: \\n\", Aright)\n",
    "print()\n",
    "\n",
    "# test\n",
    "Ileft = Aleft@A\n",
    "Iright = A@Aright\n",
    "\n",
    "print(np.round(Ileft))\n",
    "print()\n",
    "print(Iright)"
   ]
  },
  {
   "cell_type": "code",
   "execution_count": 10,
   "id": "7cc9075a",
   "metadata": {},
   "outputs": [
    {
     "data": {
      "image/png": "[encoded data removed]",
      "text/plain": [
       "<Figure size 432x288 with 7 Axes>"
      ]
     },
     "metadata": {
      "needs_background": "light"
     },
     "output_type": "display_data"
    }
   ],
   "source": [
    "# show images\n",
    "plt.subplot(331)\n",
    "plt.imshow(A), plt.axis('off')\n",
    "plt.title('A')\n",
    "\n",
    "plt.subplot(332)\n",
    "plt.imshow(AtA), plt.axis('off')\n",
    "plt.title('A$^T$A')\n",
    "\n",
    "plt.subplot(333)\n",
    "plt.imshow(AAt), plt.axis('off')\n",
    "plt.title('AA$^T$')\n",
    "\n",
    "plt.subplot(335)\n",
    "plt.imshow(Aleft), plt.axis('off')\n",
    "plt.title('$(A^TA)^{-1}A^T$')\n",
    "\n",
    "plt.subplot(336)\n",
    "plt.imshow(Aright), plt.axis('off')\n",
    "plt.title('$(A^TAA^T)^{-1}$')\n",
    "\n",
    "plt.subplot(338)\n",
    "plt.imshow(Ileft), plt.axis('off')\n",
    "plt.title('[$(A^TA)^{-1}A^T$] A')\n",
    "\n",
    "plt.subplot(339)\n",
    "plt.imshow(Aright), plt.axis('off')\n",
    "plt.title('$A [(A^TAA^T)^{-1}$]')\n",
    "plt.show()"
   ]
  },
  {
   "cell_type": "markdown",
   "id": "a1faee2f",
   "metadata": {},
   "source": [
    "# The pseudoinverse"
   ]
  },
  {
   "cell_type": "code",
   "execution_count": 11,
   "id": "95e0fdc2",
   "metadata": {},
   "outputs": [
    {
     "data": {
      "image/png": "[encoded data removed]",
      "text/plain": [
       "<Figure size 432x288 with 3 Axes>"
      ]
     },
     "metadata": {
      "needs_background": "light"
     },
     "output_type": "display_data"
    }
   ],
   "source": [
    "# pseudoinverse of rectangular matrix A\n",
    "## (Detailed in SVD)\n",
    "\n",
    "pseudoInvA = np.linalg.pinv(A)\n",
    "\n",
    "plt.subplot(131)\n",
    "plt.imshow(A), plt.axis('off')\n",
    "plt.title('A')\n",
    "\n",
    "plt.subplot(132)\n",
    "plt.imshow(pseudoInvA), plt.axis('off')\n",
    "plt.title('Pseudoinverse of A')\n",
    "\n",
    "plt.subplot(133)\n",
    "plt.imshow(pseudoInvA@A), plt.axis('off')\n",
    "plt.title('A$^*$A')\n",
    "\n",
    "plt.show()"
   ]
  },
  {
   "cell_type": "code",
   "execution_count": 12,
   "id": "597ee3da",
   "metadata": {},
   "outputs": [
    {
     "name": "stdout",
     "output_type": "stream",
     "text": [
      "rank = 49\n"
     ]
    }
   ],
   "source": [
    "# create random matrix\n",
    "n = 50\n",
    "A = np.random.randn(n,n)\n",
    "\n",
    "# make rank deficient by repeating a column\n",
    "A[:,n-1] = A[:,n-2]\n",
    "\n",
    "# rank of A!\n",
    "print('rank =',np.linalg.matrix_rank(A))"
   ]
  },
  {
   "cell_type": "code",
   "execution_count": 13,
   "id": "d07d9ac3",
   "metadata": {},
   "outputs": [
    {
     "data": {
      "image/png": "[encoded data removed]",
      "text/plain": [
       "<Figure size 432x288 with 4 Axes>"
      ]
     },
     "metadata": {
      "needs_background": "light"
     },
     "output_type": "display_data"
    }
   ],
   "source": [
    "# compute the pseudoinverse\n",
    "Ai = np.linalg.pinv(A)\n",
    "\n",
    "\n",
    "# and show the matrices\n",
    "plt.subplot(221)\n",
    "plt.imshow(A), plt.axis('off')\n",
    "plt.title('A')\n",
    "\n",
    "plt.subplot(222)\n",
    "plt.imshow(Ai), plt.axis('off')\n",
    "plt.title('A$^*$')\n",
    "\n",
    "plt.subplot(223)\n",
    "plt.imshow(Ai@A), plt.axis('off')\n",
    "plt.title('A$^*$A')\n",
    "\n",
    "plt.subplot(224)\n",
    "plt.imshow(A@Ai), plt.axis('off')\n",
    "plt.title('AA$^*$')\n",
    "\n",
    "plt.show()"
   ]
  },
  {
   "cell_type": "code",
   "execution_count": 14,
   "id": "8c83a299",
   "metadata": {},
   "outputs": [
    {
     "name": "stdout",
     "output_type": "stream",
     "text": [
      "[[-5.505  2.338  2.366  1.584 -1.631]\n",
      " [-3.326  1.013  1.082  0.803 -1.13 ]\n",
      " [-1.415  0.042  0.667  0.608 -0.516]\n",
      " [ 0.387  0.559 -0.459  0.017 -0.147]\n",
      " [ 7.634 -3.074 -3.433 -2.151  2.933]]\n",
      "\n",
      "[[-5.505  2.338  2.366  1.584 -1.631]\n",
      " [-3.326  1.013  1.082  0.803 -1.13 ]\n",
      " [-1.415  0.042  0.667  0.608 -0.516]\n",
      " [ 0.387  0.559 -0.459  0.017 -0.147]\n",
      " [ 7.634 -3.074 -3.433 -2.151  2.933]]\n",
      "\n",
      "[[ 1. -0.  0.  0. -0.]\n",
      " [-0.  1.  0.  0.  0.]\n",
      " [-0. -0.  1.  0.  0.]\n",
      " [-0.  0.  0.  1. -0.]\n",
      " [ 0.  0. -0.  0.  1.]]\n",
      "\n",
      "[[ 1. -0. -0. -0.  0.]\n",
      " [-0.  1.  0.  0. -0.]\n",
      " [ 0. -0.  1. -0.  0.]\n",
      " [ 0. -0. -0.  1.  0.]\n",
      " [-0.  0.  0.  0.  1.]]\n",
      "\n"
     ]
    }
   ],
   "source": [
    "# Code practice 4: Pseudoinverse of invertible matrix\n",
    "\n",
    "# pseudoinver is the same as the 'real' inverse of invertible matrix\n",
    "m=5\n",
    "A = np.random.randn(m,m)\n",
    "\n",
    "AinvF = np.linalg.inv(A)\n",
    "AinvP = np.linalg.pinv(A)\n",
    "\n",
    "print(np.round(AinvF, 3))\n",
    "print()\n",
    "print(np.round(AinvP, 3))\n",
    "print()\n",
    "\n",
    "print(np.round(A@AinvF))\n",
    "print()\n",
    "print(np.round(A@AinvP))\n",
    "print()"
   ]
  }
 ],
 "metadata": {
  "kernelspec": {
   "display_name": "Python 3 (ipykernel)",
   "language": "python",
   "name": "python3"
  },
  "language_info": {
   "codemirror_mode": {
    "name": "ipython",
    "version": 3
   },
   "file_extension": ".py",
   "mimetype": "text/x-python",
   "name": "python",
   "nbconvert_exporter": "python",
   "pygments_lexer": "ipython3",
   "version": "3.8.8"
  }
 },
 "nbformat": 4,
 "nbformat_minor": 5
}
