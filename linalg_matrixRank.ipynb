{
 "cells": [
  {
   "cell_type": "code",
   "execution_count": 1,
   "id": "b7d6630d",
   "metadata": {},
   "outputs": [],
   "source": [
    "import numpy as np\n",
    "import matplotlib.pyplot as plt\n",
    "import math"
   ]
  },
  {
   "cell_type": "markdown",
   "id": "78b5bc9e",
   "metadata": {},
   "source": [
    "# Computing rank"
   ]
  },
  {
   "cell_type": "code",
   "execution_count": 2,
   "id": "5f0d7bc3",
   "metadata": {},
   "outputs": [
    {
     "name": "stdout",
     "output_type": "stream",
     "text": [
      "Matrix A: \n",
      " [[2 1 8 8 6 3]\n",
      " [4 5 4 5 9 7]\n",
      " [9 4 8 0 6 3]\n",
      " [7 4 8 8 5 4]]\n",
      "\n",
      "Rank(A) = 4\n",
      "\n",
      "Matrx B(modified A): \n",
      " [[2 1 8 8 6 6]\n",
      " [4 5 4 5 9 9]\n",
      " [9 4 8 0 6 6]\n",
      " [7 4 8 8 5 5]]\n",
      "\n",
      "rank(B) = 4\n",
      "\n",
      "Matrx B(modified A): \n",
      " [[2 1 8 8 6 6]\n",
      " [4 5 4 5 9 9]\n",
      " [9 4 8 0 6 6]\n",
      " [9 4 8 0 6 6]]\n",
      "\n",
      "rank(B) = 3\n"
     ]
    }
   ],
   "source": [
    "# make a matrix\n",
    "m = 4\n",
    "n = 6\n",
    "\n",
    "# create a random matrix\n",
    "A = np.random.randint(10, size=(m,n))\n",
    "print(\"Matrix A: \\n\", A)\n",
    "print()\n",
    "\n",
    "# what is the largest possible rank?\n",
    "ra = np.linalg.matrix_rank(A)\n",
    "print('Rank(A) = ' + str(ra))\n",
    "print()\n",
    "\n",
    "# set last column to be repeat of penultimate column(second last column)\n",
    "B = A\n",
    "B[:,-1] = B[:,-2]\n",
    "print(\"Matrx B(modified A): \\n\", B)\n",
    "print()\n",
    "\n",
    "rb = np.linalg.matrix_rank(B)\n",
    "print('rank(B) = ' + str(rb))\n",
    "print()\n",
    "\n",
    "# set last row to be repeat of penultimate row(second last row)\n",
    "B = A\n",
    "B[-1, :] = B[-2, :]\n",
    "print(\"Matrx B(modified A): \\n\", B)\n",
    "print()\n",
    "\n",
    "rb = np.linalg.matrix_rank(B)\n",
    "print('rank(B) = ' + str(rb))"
   ]
  },
  {
   "cell_type": "code",
   "execution_count": 3,
   "id": "0a733fa0",
   "metadata": {},
   "outputs": [
    {
     "name": "stdout",
     "output_type": "stream",
     "text": [
      "Matrix A: \n",
      " [[6 4 0 0]\n",
      " [4 3 1 1]\n",
      " [8 2 2 2]\n",
      " [9 8 6 6]]\n",
      "\n",
      "Matrix B(adding noise to A): \n",
      " [[6.00005978e+00 3.99917725e+00 1.33063527e-03 1.35295774e-04]\n",
      " [4.00034116e+00 3.00073296e+00 9.98787328e-01 1.00001253e+00]\n",
      " [8.00000940e+00 2.00181732e+00 1.99980405e+00 2.00242243e+00]\n",
      " [8.99947512e+00 8.00049338e+00 6.00021353e+00 6.00037309e+00]]\n",
      "\n",
      "rank (w/o noise) = 3\n",
      "rank (with noise) = 4\n"
     ]
    }
   ],
   "source": [
    "## adding noise to a rank-deficient matrix\n",
    "\n",
    "# square for convenience\n",
    "A = np.random.randint(10, size=(m,m))\n",
    "\n",
    "\n",
    "# reduce the rank\n",
    "A[:,-1] = A[:,-2]\n",
    "print(\"Matrix A: \\n\", A)\n",
    "print()\n",
    "\n",
    "# noise level\n",
    "noiseamp = .001\n",
    "\n",
    "# add the noise\n",
    "B = A + noiseamp*np.random.randn(m,m)\n",
    "print(\"Matrix B(adding noise to A): \\n\", B)\n",
    "print()\n",
    "\n",
    "print('rank (w/o noise) = ' + str(np.linalg.matrix_rank(A)))\n",
    "print('rank (with noise) = ' + str(np.linalg.matrix_rank(B)))"
   ]
  },
  {
   "cell_type": "code",
   "execution_count": 4,
   "id": "cdee8c44",
   "metadata": {},
   "outputs": [
    {
     "name": "stdout",
     "output_type": "stream",
     "text": [
      "Shape of C =  (10, 10)\n",
      "Rank of C =  4\n",
      "Shape of C =  (8, 7)\n",
      "Rank of C =  5\n"
     ]
    }
   ],
   "source": [
    "# Code Practice 1: Code Problem: Reduce-Rank using matrix multiplication\n",
    "# Q = Create a 10x10 matrix of r=4 using matrix multiplication\n",
    "\n",
    "# first create two matrices asuuming that they will full(column/row) rank matrices\n",
    "A = np.random.randint(10, size=(10,4))\n",
    "B = np.random.randint(10, size=(4,10))\n",
    "\n",
    "C = A@B\n",
    "print(\"Shape of C = \", np.shape(C))\n",
    "print(\"Rank of C = \", np.linalg.matrix_rank(C))\n",
    "\n",
    "# generalize the above procedure for any mxn matrix with rank r\n",
    "m = 8\n",
    "n = 7\n",
    "# rank should be the min of m, n i.e., rank <= min(m, n)\n",
    "r = 5\n",
    "\n",
    "A = np.random.randint(10, size=(m,r))\n",
    "B = np.random.randint(10, size=(r,n))\n",
    "\n",
    "\n",
    "# C will be mxn matrix with rank r\n",
    "C = A@B\n",
    "print(\"Shape of C = \", np.shape(C))\n",
    "print(\"Rank of C = \", np.linalg.matrix_rank(C))"
   ]
  },
  {
   "cell_type": "code",
   "execution_count": 5,
   "id": "f263ee2d",
   "metadata": {},
   "outputs": [
    {
     "name": "stdout",
     "output_type": "stream",
     "text": [
      "rank(F) = 5\n",
      "rank(l*F) = 5\n",
      "rank(R) = 4\n",
      "rank(l*R) = 4\n"
     ]
    }
   ],
   "source": [
    "# Code Practice 2: Scalar multiplication and rank\n",
    "\n",
    "# test whether the matrix rank is invariant to scalar multiplication\n",
    "\n",
    "# create two matrices a full(column/row) rank and a reduce-rank\n",
    "m = 7\n",
    "n = 5\n",
    "\n",
    "F = np.random.randint(10, size=(m,n)) @ np.random.randint(10, size=(n,n))\n",
    "R = np.random.randint(10, size=(m,n-1)) @ np.random.randint(10, size=(n-1,n))\n",
    "\n",
    "# create some scalar axcept 0\n",
    "l = 2927894\n",
    "\n",
    "# print rank of F and R, l*F, l*R\n",
    "print('rank(F) = ' + str(np.linalg.matrix_rank(F)))\n",
    "print('rank(l*F) = ' + str(np.linalg.matrix_rank(l*F)))\n",
    "print('rank(R) = ' + str(np.linalg.matrix_rank(R)))\n",
    "print('rank(l*R) = ' + str(np.linalg.matrix_rank(l*R)))\n"
   ]
  },
  {
   "cell_type": "markdown",
   "id": "731ec96c",
   "metadata": {},
   "source": [
    "# Rank of A^TA and AA^T"
   ]
  },
  {
   "cell_type": "code",
   "execution_count": 6,
   "id": "710ba8e6",
   "metadata": {},
   "outputs": [
    {
     "name": "stdout",
     "output_type": "stream",
     "text": [
      "A: 3x3, rank=3\n",
      "At: 3x3, rank=3\n",
      "AtA: 3x3, rank=3\n",
      "AAt: 14x14, rank=3\n"
     ]
    }
   ],
   "source": [
    "# matrix sizes\n",
    "m = 14\n",
    "n =  3\n",
    "\n",
    "# create matrices\n",
    "A = np.round(10*np.random.randn(m,n))\n",
    "\n",
    "At = A.T\n",
    "AtA = A.T@A\n",
    "AAt = A@A.T\n",
    "\n",
    "# get matrix sizes\n",
    "sizeA = AtA.shape\n",
    "sizeAt = AtA.shape\n",
    "sizeAtA = AtA.shape\n",
    "sizeAAt = AAt.shape\n",
    "\n",
    "# print info!\n",
    "print('A: %dx%d, rank=%d' %(sizeA[0], sizeA[1], np.linalg.matrix_rank(A)))\n",
    "print('At: %dx%d, rank=%d' %(sizeAt[0], sizeAt[1], np.linalg.matrix_rank(At)))\n",
    "print('AtA: %dx%d, rank=%d' %(sizeAtA[0], sizeAtA[1], np.linalg.matrix_rank(AtA)))\n",
    "print('AAt: %dx%d, rank=%d' %(sizeAAt[0], sizeAAt[1], np.linalg.matrix_rank(AAt)))"
   ]
  },
  {
   "cell_type": "markdown",
   "id": "567e0f01",
   "metadata": {},
   "source": [
    "# Making a matrix full-rank by \"shifting\""
   ]
  },
  {
   "cell_type": "code",
   "execution_count": 7,
   "id": "a94b4f08",
   "metadata": {},
   "outputs": [
    {
     "name": "stdout",
     "output_type": "stream",
     "text": [
      "rank(w/o shift) = 29\n",
      "rank(with shift) = 30\n"
     ]
    }
   ],
   "source": [
    "# size of matrix\n",
    "m = 30\n",
    "\n",
    "# create the square symmetric matrix\n",
    "A = np.random.randn(m,m)\n",
    "A = np.round(10*(A.T@A))\n",
    "\n",
    "# reduce the rank\n",
    "A[:,0] = A[:,1]\n",
    "\n",
    "# shift amount (l=lambda)\n",
    "l = .01\n",
    "\n",
    "# new matrix\n",
    "B = A + l*np.eye(m,m)\n",
    "\n",
    "# print information\n",
    "print('rank(w/o shift) = %d' %np.linalg.matrix_rank(A))\n",
    "print('rank(with shift) = %d' %np.linalg.matrix_rank(B))"
   ]
  },
  {
   "cell_type": "code",
   "execution_count": 8,
   "id": "27a111e8",
   "metadata": {},
   "outputs": [
    {
     "name": "stdout",
     "output_type": "stream",
     "text": [
      "Vector V: \n",
      " [[1]\n",
      " [2]\n",
      " [3]\n",
      " [4]]\n",
      "\n",
      "Matrix S: \n",
      " [[4 0]\n",
      " [3 4]\n",
      " [6 0]\n",
      " [2 1]]\n",
      "\n",
      "Matrix T: \n",
      " [[1 0]\n",
      " [2 0]\n",
      " [2 1]\n",
      " [2 2]]\n",
      "\n",
      "Matrix [S, V]: \n",
      " [[4 0 1]\n",
      " [3 4 2]\n",
      " [6 0 3]\n",
      " [2 1 4]]\n",
      "\n",
      "Matrix [T, V]: \n",
      " [[1 0 1]\n",
      " [2 0 2]\n",
      " [2 1 3]\n",
      " [2 2 4]]\n",
      "\n",
      "Rank of [S, V] 3\n",
      "Rank of [T, V] 2\n"
     ]
    }
   ],
   "source": [
    "# Code Practice 1: Is the vector in the span of of this set\n",
    "\n",
    "# determine wether this vector\n",
    "V = np.array([[1, 2, 3, 4]]).T\n",
    "print(\"Vector V: \\n\", V)\n",
    "print()\n",
    "# is in the span of these sets ?\n",
    "S = np.vstack(([4, 3, 6, 2], [0, 4, 0, 1])).T\n",
    "T = np.vstack(([1, 2, 2, 2], [0, 0, 1, 2])).T\n",
    "print(\"Matrix S: \\n\", S)\n",
    "print()\n",
    "print(\"Matrix T: \\n\", T)\n",
    "print()\n",
    "\n",
    "\"\"\"\n",
    "if Vector V is contained in the span in the subspace spend by set s,\n",
    "then putting Vector V into this set is going to create a linearly \n",
    "dependent set of vectors as the algebraic way \n",
    "geometrically Vector V does not expand the dimensionality of \n",
    "the space that is spanned by set s. \n",
    "So the dimensionality will still the same.\n",
    "\"\"\"\n",
    "\n",
    "SV = np.concatenate((S,V), axis=1)\n",
    "TV = np.concatenate((T,V), axis=1)\n",
    "\n",
    "print(\"Matrix [S, V]: \\n\", SV)\n",
    "print()\n",
    "print(\"Matrix [T, V]: \\n\", TV)\n",
    "print()\n",
    "print(\"Rank of [S, V]\", np.linalg.matrix_rank(SV))\n",
    "print(\"Rank of [T, V]\", np.linalg.matrix_rank(TV))"
   ]
  }
 ],
 "metadata": {
  "kernelspec": {
   "display_name": "Python 3 (ipykernel)",
   "language": "python",
   "name": "python3"
  },
  "language_info": {
   "codemirror_mode": {
    "name": "ipython",
    "version": 3
   },
   "file_extension": ".py",
   "mimetype": "text/x-python",
   "name": "python",
   "nbconvert_exporter": "python",
   "pygments_lexer": "ipython3",
   "version": "3.8.8"
  }
 },
 "nbformat": 4,
 "nbformat_minor": 5
}
